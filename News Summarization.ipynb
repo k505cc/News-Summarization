{
 "cells": [
  {
   "cell_type": "markdown",
   "metadata": {},
   "source": [
    "### Step1 데이터 수집하기"
   ]
  },
  {
   "cell_type": "code",
   "execution_count": 1,
   "metadata": {},
   "outputs": [
    {
     "name": "stderr",
     "output_type": "stream",
     "text": [
      "[nltk_data] Downloading package stopwords to /home/ssac8/nltk_data...\n",
      "[nltk_data]   Package stopwords is already up-to-date!\n"
     ]
    }
   ],
   "source": [
    "import nltk\n",
    "nltk.download('stopwords')\n",
    "\n",
    "import tensorflow as tf\n",
    "import numpy as np\n",
    "import pandas as pd\n",
    "import os\n",
    "import re\n",
    "import matplotlib.pyplot as plt\n",
    "from nltk.corpus import stopwords\n",
    "from bs4 import BeautifulSoup \n",
    "from tensorflow.keras.preprocessing.text import Tokenizer \n",
    "from tensorflow.keras.preprocessing.sequence import pad_sequences\n",
    "import urllib.request"
   ]
  },
  {
   "cell_type": "code",
   "execution_count": 2,
   "metadata": {},
   "outputs": [],
   "source": [
    "import pandas as pd\n",
    "import urllib.request\n",
    "\n",
    "urllib.request.urlretrieve(\"https://raw.githubusercontent.com/sunnysai12345/News_Summary/master/news_summary_more.csv\", filename=\"news_summary_more.csv\")\n",
    "data = pd.read_csv('news_summary_more.csv', encoding='iso-8859-1')"
   ]
  },
  {
   "cell_type": "code",
   "execution_count": 3,
   "metadata": {},
   "outputs": [
    {
     "data": {
      "text/html": [
       "<div>\n",
       "<style scoped>\n",
       "    .dataframe tbody tr th:only-of-type {\n",
       "        vertical-align: middle;\n",
       "    }\n",
       "\n",
       "    .dataframe tbody tr th {\n",
       "        vertical-align: top;\n",
       "    }\n",
       "\n",
       "    .dataframe thead th {\n",
       "        text-align: right;\n",
       "    }\n",
       "</style>\n",
       "<table border=\"1\" class=\"dataframe\">\n",
       "  <thead>\n",
       "    <tr style=\"text-align: right;\">\n",
       "      <th></th>\n",
       "      <th>headlines</th>\n",
       "      <th>text</th>\n",
       "    </tr>\n",
       "  </thead>\n",
       "  <tbody>\n",
       "    <tr>\n",
       "      <th>33605</th>\n",
       "      <td>Iyer slams 10 sixes, hits 93*(40) in 1st match...</td>\n",
       "      <td>Batting in his first match as the captain of D...</td>\n",
       "    </tr>\n",
       "    <tr>\n",
       "      <th>89156</th>\n",
       "      <td>Fans will see my romance with Anjali: Sachin o...</td>\n",
       "      <td>Sachin Tendulkar has said that the story of hi...</td>\n",
       "    </tr>\n",
       "    <tr>\n",
       "      <th>41400</th>\n",
       "      <td>4 killed in hailstorm at Andhra temple ahead o...</td>\n",
       "      <td>Four devotees were killed and over 50 injured ...</td>\n",
       "    </tr>\n",
       "    <tr>\n",
       "      <th>67305</th>\n",
       "      <td>Rolls-Royce plunges into sinkhole, driver esca...</td>\n",
       "      <td>A 5 million yuan (nearly Ã¢ÂÂ¹5 crore) Rolls-...</td>\n",
       "    </tr>\n",
       "    <tr>\n",
       "      <th>54665</th>\n",
       "      <td>Ratan Tata rejected job offer at IBM to work a...</td>\n",
       "      <td>Ratan Tata, who turns 80 today, rejected a job...</td>\n",
       "    </tr>\n",
       "    <tr>\n",
       "      <th>33591</th>\n",
       "      <td>Whale shark swims 20,000 km in 500 days in rec...</td>\n",
       "      <td>A whale shark, the world's largest living fish...</td>\n",
       "    </tr>\n",
       "    <tr>\n",
       "      <th>38233</th>\n",
       "      <td>'Mullah Radio', man behind attack on Malala ki...</td>\n",
       "      <td>Pakistani Taliban chief Maulana Fazlullah, als...</td>\n",
       "    </tr>\n",
       "    <tr>\n",
       "      <th>8935</th>\n",
       "      <td>Instagram testing new layouts, may put profile...</td>\n",
       "      <td>Facebook-owned photo-sharing app Instagram has...</td>\n",
       "    </tr>\n",
       "    <tr>\n",
       "      <th>92798</th>\n",
       "      <td>US Facebook murderer kills himself after polic...</td>\n",
       "      <td>Steve Stephens, who was wanted by police for s...</td>\n",
       "    </tr>\n",
       "    <tr>\n",
       "      <th>59281</th>\n",
       "      <td>Gopi Thonakal 1st Indian man to win Asian Mara...</td>\n",
       "      <td>Gopi Thonakal became the first Indian man to w...</td>\n",
       "    </tr>\n",
       "  </tbody>\n",
       "</table>\n",
       "</div>"
      ],
      "text/plain": [
       "                                               headlines  \\\n",
       "33605  Iyer slams 10 sixes, hits 93*(40) in 1st match...   \n",
       "89156  Fans will see my romance with Anjali: Sachin o...   \n",
       "41400  4 killed in hailstorm at Andhra temple ahead o...   \n",
       "67305  Rolls-Royce plunges into sinkhole, driver esca...   \n",
       "54665  Ratan Tata rejected job offer at IBM to work a...   \n",
       "33591  Whale shark swims 20,000 km in 500 days in rec...   \n",
       "38233  'Mullah Radio', man behind attack on Malala ki...   \n",
       "8935   Instagram testing new layouts, may put profile...   \n",
       "92798  US Facebook murderer kills himself after polic...   \n",
       "59281  Gopi Thonakal 1st Indian man to win Asian Mara...   \n",
       "\n",
       "                                                    text  \n",
       "33605  Batting in his first match as the captain of D...  \n",
       "89156  Sachin Tendulkar has said that the story of hi...  \n",
       "41400  Four devotees were killed and over 50 injured ...  \n",
       "67305  A 5 million yuan (nearly Ã¢ÂÂ¹5 crore) Rolls-...  \n",
       "54665  Ratan Tata, who turns 80 today, rejected a job...  \n",
       "33591  A whale shark, the world's largest living fish...  \n",
       "38233  Pakistani Taliban chief Maulana Fazlullah, als...  \n",
       "8935   Facebook-owned photo-sharing app Instagram has...  \n",
       "92798  Steve Stephens, who was wanted by police for s...  \n",
       "59281  Gopi Thonakal became the first Indian man to w...  "
      ]
     },
     "execution_count": 3,
     "metadata": {},
     "output_type": "execute_result"
    }
   ],
   "source": [
    "data.sample(10)"
   ]
  },
  {
   "cell_type": "markdown",
   "metadata": {},
   "source": [
    "### Step 2. 데이터 전처리 하기 (추상적 요약)    \n",
    "* 필요한 전처리 추가 사용 및 텍스트 정규화   \n",
    "* 짧은 문장에 대한 불용어 제거 선택 해보기   \n"
   ]
  },
  {
   "cell_type": "code",
   "execution_count": 4,
   "metadata": {},
   "outputs": [
    {
     "name": "stdout",
     "output_type": "stream",
     "text": [
      "headlines 열에서 중복을 배제한 유일한 샘플의 수 : 98280\n",
      "text 열에서 중복을 배제한 유일한 샘플의 수 : 98360\n"
     ]
    }
   ],
   "source": [
    "print('headlines 열에서 중복을 배제한 유일한 샘플의 수 :', data['headlines'].nunique())\n",
    "print('text 열에서 중복을 배제한 유일한 샘플의 수 :', data['text'].nunique())"
   ]
  },
  {
   "cell_type": "code",
   "execution_count": 5,
   "metadata": {},
   "outputs": [
    {
     "name": "stdout",
     "output_type": "stream",
     "text": [
      "전체 샘플수 : 98360\n"
     ]
    }
   ],
   "source": [
    "#중복 샘플 제거하기 \n",
    "data.drop_duplicates(subset = ['text'], inplace = True)\n",
    "print('전체 샘플수 :',(len(data)))"
   ]
  },
  {
   "cell_type": "code",
   "execution_count": 6,
   "metadata": {},
   "outputs": [
    {
     "name": "stdout",
     "output_type": "stream",
     "text": [
      "headlines    0\n",
      "text         0\n",
      "dtype: int64\n"
     ]
    }
   ],
   "source": [
    "#중복 샘플 제거하면서 생긴 null값 확인 해보기 \n",
    "print(data.isnull().sum())"
   ]
  },
  {
   "cell_type": "markdown",
   "metadata": {},
   "source": [
    "Null 값이 없음으로 나옴으로 다음으로 이동! "
   ]
  },
  {
   "cell_type": "markdown",
   "metadata": {},
   "source": [
    "#### 텍스트 정규화  \n",
    "같은 의미인데도 다른 표현으로 쓰여 다치 다른 단어들 처럼 간주 되는 단어들 하나로 통일 시켜주기!   \n",
    "-> 연산량을 줄여줌 --> 이것이 바로 텍스트 정규화 (text normalization)    \n"
   ]
  },
  {
   "cell_type": "code",
   "execution_count": 7,
   "metadata": {},
   "outputs": [
    {
     "name": "stdout",
     "output_type": "stream",
     "text": [
      "정규화 사전의 수:  120\n"
     ]
    }
   ],
   "source": [
    "contractions = {\"ain't\": \"is not\", \"aren't\": \"are not\",\"can't\": \"cannot\", \"'cause\": \"because\", \"could've\": \"could have\", \"couldn't\": \"could not\",\n",
    "                           \"didn't\": \"did not\",  \"doesn't\": \"does not\", \"don't\": \"do not\", \"hadn't\": \"had not\", \"hasn't\": \"has not\", \"haven't\": \"have not\",\n",
    "                           \"he'd\": \"he would\",\"he'll\": \"he will\", \"he's\": \"he is\", \"how'd\": \"how did\", \"how'd'y\": \"how do you\", \"how'll\": \"how will\", \"how's\": \"how is\",\n",
    "                           \"I'd\": \"I would\", \"I'd've\": \"I would have\", \"I'll\": \"I will\", \"I'll've\": \"I will have\",\"I'm\": \"I am\", \"I've\": \"I have\", \"i'd\": \"i would\",\n",
    "                           \"i'd've\": \"i would have\", \"i'll\": \"i will\",  \"i'll've\": \"i will have\",\"i'm\": \"i am\", \"i've\": \"i have\", \"isn't\": \"is not\", \"it'd\": \"it would\",\n",
    "                           \"it'd've\": \"it would have\", \"it'll\": \"it will\", \"it'll've\": \"it will have\",\"it's\": \"it is\", \"let's\": \"let us\", \"ma'am\": \"madam\",\n",
    "                           \"mayn't\": \"may not\", \"might've\": \"might have\",\"mightn't\": \"might not\",\"mightn't've\": \"might not have\", \"must've\": \"must have\",\n",
    "                           \"mustn't\": \"must not\", \"mustn't've\": \"must not have\", \"needn't\": \"need not\", \"needn't've\": \"need not have\",\"o'clock\": \"of the clock\",\n",
    "                           \"oughtn't\": \"ought not\", \"oughtn't've\": \"ought not have\", \"shan't\": \"shall not\", \"sha'n't\": \"shall not\", \"shan't've\": \"shall not have\",\n",
    "                           \"she'd\": \"she would\", \"she'd've\": \"she would have\", \"she'll\": \"she will\", \"she'll've\": \"she will have\", \"she's\": \"she is\",\n",
    "                           \"should've\": \"should have\", \"shouldn't\": \"should not\", \"shouldn't've\": \"should not have\", \"so've\": \"so have\",\"so's\": \"so as\",\n",
    "                           \"this's\": \"this is\",\"that'd\": \"that would\", \"that'd've\": \"that would have\", \"that's\": \"that is\", \"there'd\": \"there would\",\n",
    "                           \"there'd've\": \"there would have\", \"there's\": \"there is\", \"here's\": \"here is\",\"they'd\": \"they would\", \"they'd've\": \"they would have\",\n",
    "                           \"they'll\": \"they will\", \"they'll've\": \"they will have\", \"they're\": \"they are\", \"they've\": \"they have\", \"to've\": \"to have\",\n",
    "                           \"wasn't\": \"was not\", \"we'd\": \"we would\", \"we'd've\": \"we would have\", \"we'll\": \"we will\", \"we'll've\": \"we will have\", \"we're\": \"we are\",\n",
    "                           \"we've\": \"we have\", \"weren't\": \"were not\", \"what'll\": \"what will\", \"what'll've\": \"what will have\", \"what're\": \"what are\",\n",
    "                           \"what's\": \"what is\", \"what've\": \"what have\", \"when's\": \"when is\", \"when've\": \"when have\", \"where'd\": \"where did\", \"where's\": \"where is\",\n",
    "                           \"where've\": \"where have\", \"who'll\": \"who will\", \"who'll've\": \"who will have\", \"who's\": \"who is\", \"who've\": \"who have\",\n",
    "                           \"why's\": \"why is\", \"why've\": \"why have\", \"will've\": \"will have\", \"won't\": \"will not\", \"won't've\": \"will not have\",\n",
    "                           \"would've\": \"would have\", \"wouldn't\": \"would not\", \"wouldn't've\": \"would not have\", \"y'all\": \"you all\",\n",
    "                           \"y'all'd\": \"you all would\",\"y'all'd've\": \"you all would have\",\"y'all're\": \"you all are\",\"y'all've\": \"you all have\",\n",
    "                           \"you'd\": \"you would\", \"you'd've\": \"you would have\", \"you'll\": \"you will\", \"you'll've\": \"you will have\",\n",
    "                           \"you're\": \"you are\", \"you've\": \"you have\"}\n",
    "\n",
    "print(\"정규화 사전의 수: \",len(contractions))"
   ]
  },
  {
   "cell_type": "markdown",
   "metadata": {},
   "source": [
    "#### 불용어 제거    \n",
    "텍스트에는 자주 등장하지만 자연어 처리시 실질적으로 별 도움 되지 않는 아이들을 stopwrods (불용어)라고 부름   \n",
    "-> 불용어를 제거함으로써 자연어 처리 성능을 높일 수 있음.   \n",
    "NLTK 제공하는 불용어 리스트 참조해서 불용어 제거 가능   \n"
   ]
  },
  {
   "cell_type": "code",
   "execution_count": 8,
   "metadata": {},
   "outputs": [
    {
     "name": "stdout",
     "output_type": "stream",
     "text": [
      "불용어 개수 : 179\n",
      "['i', 'me', 'my', 'myself', 'we', 'our', 'ours', 'ourselves', 'you', \"you're\", \"you've\", \"you'll\", \"you'd\", 'your', 'yours', 'yourself', 'yourselves', 'he', 'him', 'his', 'himself', 'she', \"she's\", 'her', 'hers', 'herself', 'it', \"it's\", 'its', 'itself', 'they', 'them', 'their', 'theirs', 'themselves', 'what', 'which', 'who', 'whom', 'this', 'that', \"that'll\", 'these', 'those', 'am', 'is', 'are', 'was', 'were', 'be', 'been', 'being', 'have', 'has', 'had', 'having', 'do', 'does', 'did', 'doing', 'a', 'an', 'the', 'and', 'but', 'if', 'or', 'because', 'as', 'until', 'while', 'of', 'at', 'by', 'for', 'with', 'about', 'against', 'between', 'into', 'through', 'during', 'before', 'after', 'above', 'below', 'to', 'from', 'up', 'down', 'in', 'out', 'on', 'off', 'over', 'under', 'again', 'further', 'then', 'once', 'here', 'there', 'when', 'where', 'why', 'how', 'all', 'any', 'both', 'each', 'few', 'more', 'most', 'other', 'some', 'such', 'no', 'nor', 'not', 'only', 'own', 'same', 'so', 'than', 'too', 'very', 's', 't', 'can', 'will', 'just', 'don', \"don't\", 'should', \"should've\", 'now', 'd', 'll', 'm', 'o', 're', 've', 'y', 'ain', 'aren', \"aren't\", 'couldn', \"couldn't\", 'didn', \"didn't\", 'doesn', \"doesn't\", 'hadn', \"hadn't\", 'hasn', \"hasn't\", 'haven', \"haven't\", 'isn', \"isn't\", 'ma', 'mightn', \"mightn't\", 'mustn', \"mustn't\", 'needn', \"needn't\", 'shan', \"shan't\", 'shouldn', \"shouldn't\", 'wasn', \"wasn't\", 'weren', \"weren't\", 'won', \"won't\", 'wouldn', \"wouldn't\"]\n"
     ]
    }
   ],
   "source": [
    "print('불용어 개수 :', len(stopwords.words('english') ))\n",
    "print(stopwords.words('english'))"
   ]
  },
  {
   "cell_type": "markdown",
   "metadata": {},
   "source": [
    "* 총 170개의 불용어가 나옴. 이 불용어들을 제거할거임.    \n",
    "* 영어 문자 -> 소문자화   \n",
    "* 섞여있는 html 태그 제거   \n",
    "* 정규 표현식을 통해 각종 특수 문자 제거   \n"
   ]
  },
  {
   "cell_type": "code",
   "execution_count": 9,
   "metadata": {},
   "outputs": [],
   "source": [
    "#데이터 전처리 함수\n",
    "def preprocess_sentence(sentence, remove_stopwords=True):\n",
    "    sentence = sentence.lower() # 텍스트 소문자화\n",
    "    sentence = BeautifulSoup(sentence, \"lxml\").text # <br />, <a href = ...> 등의 html 태그 제거\n",
    "    sentence = re.sub(r'\\([^)]*\\)', '', sentence) # 괄호로 닫힌 문자열 (...) 제거 Ex) my husband (and myself!) for => my husband for\n",
    "    sentence = re.sub('\"','', sentence) # 쌍따옴표 \" 제거\n",
    "    sentence = ' '.join([contractions[t] if t in contractions else t for t in sentence.split(\" \")]) # 약어 정규화\n",
    "    sentence = re.sub(r\"'s\\b\",\"\",sentence) # 소유격 제거. Ex) roland's -> roland\n",
    "    sentence = re.sub(\"[^a-zA-Z]\", \" \", sentence) # 영어 외 문자(숫자, 특수문자 등) 공백으로 변환\n",
    "    sentence = re.sub('[m]{2,}', 'mm', sentence) # m이 3개 이상이면 2개로 변경. Ex) ummmmmmm yeah -> umm yeah\n",
    "    \n",
    "    # 불용어 제거 (Text)\n",
    "    if remove_stopwords:\n",
    "        tokens = ' '.join(word for word in sentence.split() if not word in stopwords.words('english') if len(word) > 1)\n",
    "    # 불용어 미제거 (Summary)\n",
    "    else:\n",
    "        tokens = ' '.join(word for word in sentence.split() if len(word) > 1)\n",
    "    return tokens"
   ]
  },
  {
   "cell_type": "markdown",
   "metadata": {},
   "source": [
    "If 절로 True or False로 불용어 제거 및 미제거 선택 가능! "
   ]
  },
  {
   "cell_type": "code",
   "execution_count": 10,
   "metadata": {},
   "outputs": [
    {
     "name": "stdout",
     "output_type": "stream",
     "text": [
      "everything bought great infact ordered twice third ordered wasfor mother father\n",
      "great way to start the day\n"
     ]
    }
   ],
   "source": [
    "#불용어 및 위에 언급되는 바가 잘 작동하는지 확인 해보기  \n",
    "temp_text = 'Everything I bought was great, infact I ordered twice and the third ordered was<br />for my mother and father.'\n",
    "temp_summary = 'Great way to start (or finish) the day!!!'\n",
    "\n",
    "print(preprocess_sentence(temp_text))\n",
    "print(preprocess_sentence(temp_summary, False))  # 불용어를 제거하지 않습니다."
   ]
  },
  {
   "cell_type": "markdown",
   "metadata": {},
   "source": [
    "#####  뉴스 데이터를 보면 headlines이 대부분 text의 요약 버전이므로, 길이가 더 짧음.   \n",
    "##### 그래서 headlines은 불용어 제거를 안하고, text만 불용어 제거를 해주겠음.    "
   ]
  },
  {
   "cell_type": "code",
   "execution_count": 11,
   "metadata": {},
   "outputs": [
    {
     "data": {
      "text/html": [
       "<div>\n",
       "<style scoped>\n",
       "    .dataframe tbody tr th:only-of-type {\n",
       "        vertical-align: middle;\n",
       "    }\n",
       "\n",
       "    .dataframe tbody tr th {\n",
       "        vertical-align: top;\n",
       "    }\n",
       "\n",
       "    .dataframe thead th {\n",
       "        text-align: right;\n",
       "    }\n",
       "</style>\n",
       "<table border=\"1\" class=\"dataframe\">\n",
       "  <thead>\n",
       "    <tr style=\"text-align: right;\">\n",
       "      <th></th>\n",
       "      <th>headlines</th>\n",
       "      <th>text</th>\n",
       "    </tr>\n",
       "  </thead>\n",
       "  <tbody>\n",
       "    <tr>\n",
       "      <th>98108</th>\n",
       "      <td>Thailand organises buffet for elephants to mar...</td>\n",
       "      <td>Dozens of elephants were treated to a fruit bu...</td>\n",
       "    </tr>\n",
       "  </tbody>\n",
       "</table>\n",
       "</div>"
      ],
      "text/plain": [
       "                                               headlines  \\\n",
       "98108  Thailand organises buffet for elephants to mar...   \n",
       "\n",
       "                                                    text  \n",
       "98108  Dozens of elephants were treated to a fruit bu...  "
      ]
     },
     "execution_count": 11,
     "metadata": {},
     "output_type": "execute_result"
    }
   ],
   "source": [
    "#데이터 샘플 1개 다시 뽑아보기 \n",
    "data.sample(1)"
   ]
  },
  {
   "cell_type": "code",
   "execution_count": 12,
   "metadata": {},
   "outputs": [
    {
     "data": {
      "text/plain": [
       "['upgrad learner switches to career in ml al with salary hike',\n",
       " 'delhi techie wins free food from swiggy for one year on cred',\n",
       " 'new zealand end rohit sharma led india match winning streak',\n",
       " 'aegon life iterm insurance plan helps customers save tax',\n",
       " 'have known hirani for yrs what if metoo claims are not true sonam']"
      ]
     },
     "execution_count": 12,
     "metadata": {},
     "output_type": "execute_result"
    }
   ],
   "source": [
    "clean_headlines = []\n",
    "\n",
    "# 전체 headlines 데이터에 대한 전처리 : 10분 이상 시간이 걸릴 수 있습니다. \n",
    "for s in data['headlines']:\n",
    "    clean_headlines.append(preprocess_sentence(s, False)) #headlines은 불용어제거 수행하지 않으니 False로 처리 \n",
    "\n",
    "# 전처리 후 출력\n",
    "clean_headlines[:5]"
   ]
  },
  {
   "cell_type": "code",
   "execution_count": 13,
   "metadata": {
    "scrolled": true
   },
   "outputs": [
    {
     "data": {
      "text/plain": [
       "['saurav kant an alumnus of upgrad and iiit pg program in machine learning and artificial intelligence was sr systems engineer at infosys with almost years of work experience the program and upgrad degree career support helped him transition to data scientist at tech mahindra with salary hike upgrad online power learning has powered lakh careers',\n",
       " 'kunal shah credit card bill payment platform cred gave users chance to win free food from swiggy for one year pranav kaushik delhi techie bagged this reward after spending cred coins users get one cred coin per rupee of bill paid which can be used to avail rewards from brands like ixigo bookmyshow ubereats cult fit and more',\n",
       " 'new zealand defeated india by wickets in the fourth odi at hamilton on thursday to win their first match of the five match odi series india lost an international match under rohit sharma captaincy after consecutive victories dating back to march the match witnessed india getting all out for their seventh lowest total in odi cricket history',\n",
       " 'with aegon life iterm insurance plan customers can enjoy tax benefits on your premiums paid and save up to on taxes the plan provides life cover up to the age of years also customers have options to insure against critical illnesses disability and accidental death benefit rider with life cover up to the age of years',\n",
       " 'speaking about the sexual harassment allegations against rajkumar hirani sonam kapoor said have known hirani for many years what if it is not true the metoo movement will get derailed in the metoo movement always believe woman but in this case we need to reserve our judgment she added hirani has been accused by an assistant who worked in sanju']"
      ]
     },
     "execution_count": 13,
     "metadata": {},
     "output_type": "execute_result"
    }
   ],
   "source": [
    "clean_text = []\n",
    "\n",
    "# 전체 text 데이터에 대한 전처리 : 5분 이상 시간이 걸릴 수 있습니다. \n",
    "for s in data['text']:\n",
    "    clean_text.append(preprocess_sentence(s, False))\n",
    "\n",
    "clean_text[:5]"
   ]
  },
  {
   "cell_type": "markdown",
   "metadata": {},
   "source": [
    "오... 이렇게 마음에 드는 결과는 정말 오랜만에 봄.. ㅎㅎㅎ 뿌듯하구만"
   ]
  },
  {
   "cell_type": "code",
   "execution_count": 14,
   "metadata": {},
   "outputs": [
    {
     "data": {
      "text/plain": [
       "headlines    0\n",
       "text         0\n",
       "dtype: int64"
      ]
     },
     "execution_count": 14,
     "metadata": {},
     "output_type": "execute_result"
    }
   ],
   "source": [
    "data.isnull().sum()"
   ]
  },
  {
   "cell_type": "markdown",
   "metadata": {},
   "source": [
    "#### 샘플의 최대 길이 정하기    \n",
    "필요 없는 단어들을 필터링 해놓은 상태에서, 훈련에서 사용할 샘플의 최대 길이 정해주기   \n"
   ]
  },
  {
   "cell_type": "code",
   "execution_count": 15,
   "metadata": {},
   "outputs": [
    {
     "name": "stdout",
     "output_type": "stream",
     "text": [
      "텍스트의 최소 길이 : 1\n",
      "텍스트의 최대 길이 : 91\n",
      "텍스트의 평균 길이 : 58.23813542090281\n",
      "헤드라인의 최소 길이 : 1\n",
      "헤드라인의 최대 길이 : 18\n",
      "헤드라인의 평균 길이 : 9.553660024400163\n"
     ]
    },
    {
     "data": {
      "image/png": "[encoded data removed]",
      "text/plain": [
       "<Figure size 432x288 with 2 Axes>"
      ]
     },
     "metadata": {
      "needs_background": "light"
     },
     "output_type": "display_data"
    },
    {
     "data": {
      "image/png": "[encoded data removed]",
      "text/plain": [
       "<Figure size 432x288 with 1 Axes>"
      ]
     },
     "metadata": {
      "needs_background": "light"
     },
     "output_type": "display_data"
    },
    {
     "data": {
      "image/png": "[encoded data removed]",
      "text/plain": [
       "<Figure size 432x288 with 1 Axes>"
      ]
     },
     "metadata": {
      "needs_background": "light"
     },
     "output_type": "display_data"
    }
   ],
   "source": [
    "# headlines & text의 최소 & 최대, 평균 길이 분포 출력\n",
    "import matplotlib.pyplot as plt\n",
    "\n",
    "text_len = [len(s.split()) for s in data['text']]\n",
    "headlines_len = [len(s.split()) for s in data['headlines']]\n",
    "\n",
    "print('텍스트의 최소 길이 : {}'.format(np.min(text_len)))\n",
    "print('텍스트의 최대 길이 : {}'.format(np.max(text_len)))\n",
    "print('텍스트의 평균 길이 : {}'.format(np.mean(text_len)))\n",
    "print('헤드라인의 최소 길이 : {}'.format(np.min(headlines_len)))\n",
    "print('헤드라인의 최대 길이 : {}'.format(np.max(headlines_len)))\n",
    "print('헤드라인의 평균 길이 : {}'.format(np.mean(headlines_len)))\n",
    "\n",
    "plt.subplot(1,2,1)\n",
    "plt.boxplot(headlines_len)\n",
    "plt.title('headlines')\n",
    "plt.subplot(1,2,2)\n",
    "plt.boxplot(text_len)\n",
    "plt.title('text')\n",
    "plt.tight_layout()\n",
    "plt.show()\n",
    "\n",
    "plt.title('headlines')\n",
    "plt.hist(headlines_len, bins = 40)\n",
    "plt.xlabel('length of samples')\n",
    "plt.ylabel('number of samples')\n",
    "plt.show()\n",
    "\n",
    "plt.title('text')\n",
    "plt.hist(text_len, bins = 40)\n",
    "plt.xlabel('length of samples')\n",
    "plt.ylabel('number of samples')\n",
    "plt.show()"
   ]
  },
  {
   "cell_type": "code",
   "execution_count": 16,
   "metadata": {},
   "outputs": [],
   "source": [
    "#headlines 과 text의 최대 길이 임의로 정해보기 \n",
    "text_max_len = 75\n",
    "headlines_max_len = 50\n",
    "#heaadlines길이가 생각보다 긴것 처럼 느껴져서 간단 명료하게 하기 위해 평균 보다 낮은 50으로 설정 "
   ]
  },
  {
   "cell_type": "code",
   "execution_count": 17,
   "metadata": {},
   "outputs": [],
   "source": [
    "#위에 설정한 최대값 내에서 데이터의 몇 %를 포함하는지 함수 만들어서 확인 해보기 \n",
    "def below_threshold_len(max_len, nested_list):\n",
    "  cnt = 0\n",
    "  for s in nested_list:\n",
    "    if(len(s.split()) <= max_len):\n",
    "        cnt = cnt + 1\n",
    "  print('전체 샘플 중 길이가 %s 이하인 샘플의 비율: %s'%(max_len, (cnt / len(nested_list))))"
   ]
  },
  {
   "cell_type": "code",
   "execution_count": 18,
   "metadata": {},
   "outputs": [
    {
     "name": "stdout",
     "output_type": "stream",
     "text": [
      "전체 샘플 중 길이가 75 이하인 샘플의 비율: 0.9999898332655551\n",
      "전체 샘플 중 길이가 50 이하인 샘플의 비율: 1.0\n"
     ]
    }
   ],
   "source": [
    "below_threshold_len(text_max_len, data['text'])\n",
    "below_threshold_len(headlines_max_len,  data['headlines'])"
   ]
  },
  {
   "cell_type": "markdown",
   "metadata": {},
   "source": [
    "text의 경우 99%의 내용을 가지고 있고, headlines의 경우 5%의 내용을 가져간다고 함.   "
   ]
  },
  {
   "cell_type": "code",
   "execution_count": 19,
   "metadata": {},
   "outputs": [
    {
     "name": "stdout",
     "output_type": "stream",
     "text": [
      "전체 샘플수 : 98359\n"
     ]
    }
   ],
   "source": [
    "#정해진 길이에 맞춰 자르는 것이 아닌, 정해진 길이보다 길면 제외한느 방법으로 데이터 정제 ! \n",
    "data = data[data['text'].apply(lambda x: len(x.split()) <= text_max_len)]\n",
    "data = data[data['headlines'].apply(lambda x: len(x.split()) <= headlines_max_len)]\n",
    "print('전체 샘플수 :',(len(data)))"
   ]
  },
  {
   "cell_type": "markdown",
   "metadata": {},
   "source": [
    "#### 훈련데이터와 테스트데이터 나누기 "
   ]
  },
  {
   "cell_type": "code",
   "execution_count": 20,
   "metadata": {},
   "outputs": [
    {
     "data": {
      "text/html": [
       "<div>\n",
       "<style scoped>\n",
       "    .dataframe tbody tr th:only-of-type {\n",
       "        vertical-align: middle;\n",
       "    }\n",
       "\n",
       "    .dataframe tbody tr th {\n",
       "        vertical-align: top;\n",
       "    }\n",
       "\n",
       "    .dataframe thead th {\n",
       "        text-align: right;\n",
       "    }\n",
       "</style>\n",
       "<table border=\"1\" class=\"dataframe\">\n",
       "  <thead>\n",
       "    <tr style=\"text-align: right;\">\n",
       "      <th></th>\n",
       "      <th>headlines</th>\n",
       "      <th>text</th>\n",
       "      <th>decoder_input</th>\n",
       "      <th>decoder_target</th>\n",
       "    </tr>\n",
       "  </thead>\n",
       "  <tbody>\n",
       "    <tr>\n",
       "      <th>0</th>\n",
       "      <td>upGrad learner switches to career in ML &amp; Al w...</td>\n",
       "      <td>Saurav Kant, an alumnus of upGrad and IIIT-B's...</td>\n",
       "      <td>sostoken upGrad learner switches to career in ...</td>\n",
       "      <td>upGrad learner switches to career in ML &amp; Al w...</td>\n",
       "    </tr>\n",
       "    <tr>\n",
       "      <th>1</th>\n",
       "      <td>Delhi techie wins free food from Swiggy for on...</td>\n",
       "      <td>Kunal Shah's credit card bill payment platform...</td>\n",
       "      <td>sostoken Delhi techie wins free food from Swig...</td>\n",
       "      <td>Delhi techie wins free food from Swiggy for on...</td>\n",
       "    </tr>\n",
       "    <tr>\n",
       "      <th>2</th>\n",
       "      <td>New Zealand end Rohit Sharma-led India's 12-ma...</td>\n",
       "      <td>New Zealand defeated India by 8 wickets in the...</td>\n",
       "      <td>sostoken New Zealand end Rohit Sharma-led Indi...</td>\n",
       "      <td>New Zealand end Rohit Sharma-led India's 12-ma...</td>\n",
       "    </tr>\n",
       "    <tr>\n",
       "      <th>3</th>\n",
       "      <td>Aegon life iTerm insurance plan helps customer...</td>\n",
       "      <td>With Aegon Life iTerm Insurance plan, customer...</td>\n",
       "      <td>sostoken Aegon life iTerm insurance plan helps...</td>\n",
       "      <td>Aegon life iTerm insurance plan helps customer...</td>\n",
       "    </tr>\n",
       "    <tr>\n",
       "      <th>4</th>\n",
       "      <td>Have known Hirani for yrs, what if MeToo claim...</td>\n",
       "      <td>Speaking about the sexual harassment allegatio...</td>\n",
       "      <td>sostoken Have known Hirani for yrs, what if Me...</td>\n",
       "      <td>Have known Hirani for yrs, what if MeToo claim...</td>\n",
       "    </tr>\n",
       "  </tbody>\n",
       "</table>\n",
       "</div>"
      ],
      "text/plain": [
       "                                           headlines  \\\n",
       "0  upGrad learner switches to career in ML & Al w...   \n",
       "1  Delhi techie wins free food from Swiggy for on...   \n",
       "2  New Zealand end Rohit Sharma-led India's 12-ma...   \n",
       "3  Aegon life iTerm insurance plan helps customer...   \n",
       "4  Have known Hirani for yrs, what if MeToo claim...   \n",
       "\n",
       "                                                text  \\\n",
       "0  Saurav Kant, an alumnus of upGrad and IIIT-B's...   \n",
       "1  Kunal Shah's credit card bill payment platform...   \n",
       "2  New Zealand defeated India by 8 wickets in the...   \n",
       "3  With Aegon Life iTerm Insurance plan, customer...   \n",
       "4  Speaking about the sexual harassment allegatio...   \n",
       "\n",
       "                                       decoder_input  \\\n",
       "0  sostoken upGrad learner switches to career in ...   \n",
       "1  sostoken Delhi techie wins free food from Swig...   \n",
       "2  sostoken New Zealand end Rohit Sharma-led Indi...   \n",
       "3  sostoken Aegon life iTerm insurance plan helps...   \n",
       "4  sostoken Have known Hirani for yrs, what if Me...   \n",
       "\n",
       "                                      decoder_target  \n",
       "0  upGrad learner switches to career in ML & Al w...  \n",
       "1  Delhi techie wins free food from Swiggy for on...  \n",
       "2  New Zealand end Rohit Sharma-led India's 12-ma...  \n",
       "3  Aegon life iTerm insurance plan helps customer...  \n",
       "4  Have known Hirani for yrs, what if MeToo claim...  "
      ]
     },
     "execution_count": 20,
     "metadata": {},
     "output_type": "execute_result"
    }
   ],
   "source": [
    "#요약 데이터에는 시작 토큰과 종료 토큰을 추가한다. 앞뒤로 sostoken & eostoken  추가 \n",
    "data['decoder_input'] = data['headlines'].apply(lambda x : 'sostoken '+ x)\n",
    "data['decoder_target'] = data['headlines'].apply(lambda x : x + ' eostoken')\n",
    "data.head()"
   ]
  },
  {
   "cell_type": "code",
   "execution_count": 21,
   "metadata": {},
   "outputs": [
    {
     "name": "stdout",
     "output_type": "stream",
     "text": [
      "Text 열에서 중복을 배제한 유일한 샘플의 수 : 98359\n",
      "Summary 열에서 중복을 배제한 유일한 샘플의 수 : 98261\n"
     ]
    }
   ],
   "source": [
    "print('Text 열에서 중복을 배제한 유일한 샘플의 수 :', data['text'].nunique())\n",
    "print('Summary 열에서 중복을 배제한 유일한 샘플의 수 :', data['headlines'].nunique())"
   ]
  },
  {
   "cell_type": "code",
   "execution_count": 22,
   "metadata": {},
   "outputs": [
    {
     "data": {
      "text/html": [
       "<div>\n",
       "<style scoped>\n",
       "    .dataframe tbody tr th:only-of-type {\n",
       "        vertical-align: middle;\n",
       "    }\n",
       "\n",
       "    .dataframe tbody tr th {\n",
       "        vertical-align: top;\n",
       "    }\n",
       "\n",
       "    .dataframe thead th {\n",
       "        text-align: right;\n",
       "    }\n",
       "</style>\n",
       "<table border=\"1\" class=\"dataframe\">\n",
       "  <thead>\n",
       "    <tr style=\"text-align: right;\">\n",
       "      <th></th>\n",
       "      <th>headlines</th>\n",
       "      <th>text</th>\n",
       "      <th>decoder_input</th>\n",
       "      <th>decoder_target</th>\n",
       "    </tr>\n",
       "  </thead>\n",
       "  <tbody>\n",
       "    <tr>\n",
       "      <th>0</th>\n",
       "      <td>upGrad learner switches to career in ML &amp; Al w...</td>\n",
       "      <td>Saurav Kant, an alumnus of upGrad and IIIT-B's...</td>\n",
       "      <td>sostoken upGrad learner switches to career in ...</td>\n",
       "      <td>upGrad learner switches to career in ML &amp; Al w...</td>\n",
       "    </tr>\n",
       "    <tr>\n",
       "      <th>1</th>\n",
       "      <td>Delhi techie wins free food from Swiggy for on...</td>\n",
       "      <td>Kunal Shah's credit card bill payment platform...</td>\n",
       "      <td>sostoken Delhi techie wins free food from Swig...</td>\n",
       "      <td>Delhi techie wins free food from Swiggy for on...</td>\n",
       "    </tr>\n",
       "    <tr>\n",
       "      <th>2</th>\n",
       "      <td>New Zealand end Rohit Sharma-led India's 12-ma...</td>\n",
       "      <td>New Zealand defeated India by 8 wickets in the...</td>\n",
       "      <td>sostoken New Zealand end Rohit Sharma-led Indi...</td>\n",
       "      <td>New Zealand end Rohit Sharma-led India's 12-ma...</td>\n",
       "    </tr>\n",
       "    <tr>\n",
       "      <th>3</th>\n",
       "      <td>Aegon life iTerm insurance plan helps customer...</td>\n",
       "      <td>With Aegon Life iTerm Insurance plan, customer...</td>\n",
       "      <td>sostoken Aegon life iTerm insurance plan helps...</td>\n",
       "      <td>Aegon life iTerm insurance plan helps customer...</td>\n",
       "    </tr>\n",
       "    <tr>\n",
       "      <th>4</th>\n",
       "      <td>Have known Hirani for yrs, what if MeToo claim...</td>\n",
       "      <td>Speaking about the sexual harassment allegatio...</td>\n",
       "      <td>sostoken Have known Hirani for yrs, what if Me...</td>\n",
       "      <td>Have known Hirani for yrs, what if MeToo claim...</td>\n",
       "    </tr>\n",
       "    <tr>\n",
       "      <th>...</th>\n",
       "      <td>...</td>\n",
       "      <td>...</td>\n",
       "      <td>...</td>\n",
       "      <td>...</td>\n",
       "    </tr>\n",
       "    <tr>\n",
       "      <th>98396</th>\n",
       "      <td>CRPF jawan axed to death by Maoists in Chhatti...</td>\n",
       "      <td>A CRPF jawan was on Tuesday axed to death with...</td>\n",
       "      <td>sostoken CRPF jawan axed to death by Maoists i...</td>\n",
       "      <td>CRPF jawan axed to death by Maoists in Chhatti...</td>\n",
       "    </tr>\n",
       "    <tr>\n",
       "      <th>98397</th>\n",
       "      <td>First song from Sonakshi Sinha's 'Noor' titled...</td>\n",
       "      <td>'Uff Yeh', the first song from the Sonakshi Si...</td>\n",
       "      <td>sostoken First song from Sonakshi Sinha's 'Noo...</td>\n",
       "      <td>First song from Sonakshi Sinha's 'Noor' titled...</td>\n",
       "    </tr>\n",
       "    <tr>\n",
       "      <th>98398</th>\n",
       "      <td>'The Matrix' film to get a reboot: Reports</td>\n",
       "      <td>According to reports, a new version of the 199...</td>\n",
       "      <td>sostoken 'The Matrix' film to get a reboot: Re...</td>\n",
       "      <td>'The Matrix' film to get a reboot: Reports eos...</td>\n",
       "    </tr>\n",
       "    <tr>\n",
       "      <th>98399</th>\n",
       "      <td>Snoop Dogg aims gun at clown dressed as Trump ...</td>\n",
       "      <td>A new music video shows rapper Snoop Dogg aimi...</td>\n",
       "      <td>sostoken Snoop Dogg aims gun at clown dressed ...</td>\n",
       "      <td>Snoop Dogg aims gun at clown dressed as Trump ...</td>\n",
       "    </tr>\n",
       "    <tr>\n",
       "      <th>98400</th>\n",
       "      <td>Madhesi Morcha withdraws support to Nepalese g...</td>\n",
       "      <td>Madhesi Morcha, an alliance of seven political...</td>\n",
       "      <td>sostoken Madhesi Morcha withdraws support to N...</td>\n",
       "      <td>Madhesi Morcha withdraws support to Nepalese g...</td>\n",
       "    </tr>\n",
       "  </tbody>\n",
       "</table>\n",
       "<p>98358 rows × 4 columns</p>\n",
       "</div>"
      ],
      "text/plain": [
       "                                               headlines  \\\n",
       "0      upGrad learner switches to career in ML & Al w...   \n",
       "1      Delhi techie wins free food from Swiggy for on...   \n",
       "2      New Zealand end Rohit Sharma-led India's 12-ma...   \n",
       "3      Aegon life iTerm insurance plan helps customer...   \n",
       "4      Have known Hirani for yrs, what if MeToo claim...   \n",
       "...                                                  ...   \n",
       "98396  CRPF jawan axed to death by Maoists in Chhatti...   \n",
       "98397  First song from Sonakshi Sinha's 'Noor' titled...   \n",
       "98398         'The Matrix' film to get a reboot: Reports   \n",
       "98399  Snoop Dogg aims gun at clown dressed as Trump ...   \n",
       "98400  Madhesi Morcha withdraws support to Nepalese g...   \n",
       "\n",
       "                                                    text  \\\n",
       "0      Saurav Kant, an alumnus of upGrad and IIIT-B's...   \n",
       "1      Kunal Shah's credit card bill payment platform...   \n",
       "2      New Zealand defeated India by 8 wickets in the...   \n",
       "3      With Aegon Life iTerm Insurance plan, customer...   \n",
       "4      Speaking about the sexual harassment allegatio...   \n",
       "...                                                  ...   \n",
       "98396  A CRPF jawan was on Tuesday axed to death with...   \n",
       "98397  'Uff Yeh', the first song from the Sonakshi Si...   \n",
       "98398  According to reports, a new version of the 199...   \n",
       "98399  A new music video shows rapper Snoop Dogg aimi...   \n",
       "98400  Madhesi Morcha, an alliance of seven political...   \n",
       "\n",
       "                                           decoder_input  \\\n",
       "0      sostoken upGrad learner switches to career in ...   \n",
       "1      sostoken Delhi techie wins free food from Swig...   \n",
       "2      sostoken New Zealand end Rohit Sharma-led Indi...   \n",
       "3      sostoken Aegon life iTerm insurance plan helps...   \n",
       "4      sostoken Have known Hirani for yrs, what if Me...   \n",
       "...                                                  ...   \n",
       "98396  sostoken CRPF jawan axed to death by Maoists i...   \n",
       "98397  sostoken First song from Sonakshi Sinha's 'Noo...   \n",
       "98398  sostoken 'The Matrix' film to get a reboot: Re...   \n",
       "98399  sostoken Snoop Dogg aims gun at clown dressed ...   \n",
       "98400  sostoken Madhesi Morcha withdraws support to N...   \n",
       "\n",
       "                                          decoder_target  \n",
       "0      upGrad learner switches to career in ML & Al w...  \n",
       "1      Delhi techie wins free food from Swiggy for on...  \n",
       "2      New Zealand end Rohit Sharma-led India's 12-ma...  \n",
       "3      Aegon life iTerm insurance plan helps customer...  \n",
       "4      Have known Hirani for yrs, what if MeToo claim...  \n",
       "...                                                  ...  \n",
       "98396  CRPF jawan axed to death by Maoists in Chhatti...  \n",
       "98397  First song from Sonakshi Sinha's 'Noor' titled...  \n",
       "98398  'The Matrix' film to get a reboot: Reports eos...  \n",
       "98399  Snoop Dogg aims gun at clown dressed as Trump ...  \n",
       "98400  Madhesi Morcha withdraws support to Nepalese g...  \n",
       "\n",
       "[98358 rows x 4 columns]"
      ]
     },
     "execution_count": 22,
     "metadata": {},
     "output_type": "execute_result"
    }
   ],
   "source": [
    "#52열의 값이 text오류로 계속 떠서 삭제해줌 \n",
    "data.drop(52)"
   ]
  },
  {
   "cell_type": "code",
   "execution_count": 23,
   "metadata": {},
   "outputs": [],
   "source": [
    "#각각 다시 Numpy 타입으로 저장 \n",
    "encoder_input = np.array(data['text']) # 인코더의 입력\n",
    "decoder_input = np.array(data['decoder_input']) # 디코더의 입력\n",
    "decoder_target = np.array(data['decoder_target']) # 디코더의 레이블"
   ]
  },
  {
   "cell_type": "code",
   "execution_count": 24,
   "metadata": {},
   "outputs": [
    {
     "name": "stdout",
     "output_type": "stream",
     "text": [
      "[11329 34070 70838 ... 60284 46798 37548]\n"
     ]
    }
   ],
   "source": [
    "#직접 훈련 데이터와 테스트 데이터 분리하기 \n",
    "# encoder_input과 크키과 형태가 같은 순서가 섞인 정수 시퀀스 만들어주기 \n",
    "indices = np.arange(encoder_input.shape[0])\n",
    "np.random.shuffle(indices)\n",
    "print(indices)"
   ]
  },
  {
   "cell_type": "code",
   "execution_count": 25,
   "metadata": {},
   "outputs": [],
   "source": [
    "#위의 정수 시퀀스를 이용해 다시 데이터의 샘플 순서 정의 해주기 \n",
    "# 그러면 잘 섞인 샘플이 나옴! \n",
    "encoder_input = encoder_input[indices]\n",
    "decoder_input = decoder_input[indices]\n",
    "decoder_target = decoder_target[indices]"
   ]
  },
  {
   "cell_type": "code",
   "execution_count": 26,
   "metadata": {},
   "outputs": [
    {
     "name": "stdout",
     "output_type": "stream",
     "text": [
      "테스트 데이터의 수 : 19671\n"
     ]
    }
   ],
   "source": [
    "#8:2로 훈련 데이터와 테스트 데이터 분리해주기 \n",
    "#20%인 0.2곱해서 20%를 설정 \n",
    "n_of_val = int(len(encoder_input)*0.2)\n",
    "print('테스트 데이터의 수 :',n_of_val)"
   ]
  },
  {
   "cell_type": "code",
   "execution_count": 27,
   "metadata": {},
   "outputs": [
    {
     "name": "stdout",
     "output_type": "stream",
     "text": [
      "훈련 데이터의 개수 : 78688\n",
      "훈련 레이블의 개수 : 78688\n",
      "테스트 데이터의 개수 : 19671\n",
      "테스트 레이블의 개수 : 19671\n"
     ]
    }
   ],
   "source": [
    "#위에 정의한 데이터의 갯수를 이용해서 전체 데이터 양분하기 \n",
    "\n",
    "encoder_input_train = encoder_input[:-n_of_val]\n",
    "decoder_input_train = decoder_input[:-n_of_val]\n",
    "decoder_target_train = decoder_target[:-n_of_val]\n",
    "\n",
    "encoder_input_test = encoder_input[-n_of_val:]\n",
    "decoder_input_test = decoder_input[-n_of_val:]\n",
    "decoder_target_test = decoder_target[-n_of_val:]\n",
    "\n",
    "print('훈련 데이터의 개수 :', len(encoder_input_train))\n",
    "print('훈련 레이블의 개수 :',len(decoder_input_train))\n",
    "print('테스트 데이터의 개수 :',len(encoder_input_test))\n",
    "print('테스트 레이블의 개수 :',len(decoder_input_test))"
   ]
  },
  {
   "cell_type": "markdown",
   "metadata": {},
   "source": [
    "#### 단어 집합 (vocabulary) 만들기 및 정수 인코딩   \n",
    "기계가 텍스트를 숫자 처리 할 수 있도록 훈련데이터와 테스트 데이터의 단어들을 모두 정수로 바꿔 줘야함.   \n",
    "각 단어에 고유한 정수를 맵핑하는 작업이 필요.  --> 이것이 바로 단어 집합 (vocabulary) 만든다고 함.  \n"
   ]
  },
  {
   "cell_type": "code",
   "execution_count": 28,
   "metadata": {},
   "outputs": [],
   "source": [
    "#keras tokenizer로 입력된 훈련 데이터로 단어 집합 만들 수 있긔 \n",
    "\n",
    "src_tokenizer = Tokenizer() # 토크나이저 정의\n",
    "src_tokenizer.fit_on_texts(encoder_input_train) # 입력된 데이터로부터 단어 집합 생성"
   ]
  },
  {
   "cell_type": "markdown",
   "metadata": {},
   "source": [
    "이제 생성된 단어 집합은 src_tokenizer.word_index에 저장 되어있음.   \n",
    "여기서 빈도수가 낮은 훈련데이터는 제외해서 진행할거임.   \n",
    "   \n",
    "    등장 빈도수가 7회 미만인 데이터들의 비중이 얼마인지 확인 해보기    \n",
    "    * src_tokenizer.word_counts.items() 는 단어와 각 단어 빈도수가 저장 되어 있어서 통게적인 정보 얻을 수 있음 "
   ]
  },
  {
   "cell_type": "code",
   "execution_count": 29,
   "metadata": {},
   "outputs": [
    {
     "name": "stdout",
     "output_type": "stream",
     "text": [
      "단어 집합(vocabulary)의 크기 : 90950\n",
      "등장 빈도가 6번 이하인 희귀 단어의 수: 66212\n",
      "단어 집합에서 희귀 단어를 제외시킬 경우의 단어 집합의 크기 24738\n",
      "단어 집합에서 희귀 단어의 비율: 72.80043980208906\n",
      "전체 등장 빈도에서 희귀 단어 등장 빈도 비율: 2.7215755345213246\n"
     ]
    }
   ],
   "source": [
    "threshold = 7\n",
    "total_cnt = len(src_tokenizer.word_index) # 단어의 수\n",
    "rare_cnt = 0 # 등장 빈도수가 threshold보다 작은 단어의 개수를 카운트\n",
    "total_freq = 0 # 훈련 데이터의 전체 단어 빈도수 총 합\n",
    "rare_freq = 0 # 등장 빈도수가 threshold보다 작은 단어의 등장 빈도수의 총 합\n",
    "\n",
    "# 단어와 빈도수의 쌍(pair)을 key와 value로 받는다.\n",
    "for key, value in src_tokenizer.word_counts.items():\n",
    "    total_freq = total_freq + value\n",
    "\n",
    "    # 단어의 등장 빈도수가 threshold보다 작으면\n",
    "    if(value < threshold):\n",
    "        rare_cnt = rare_cnt + 1\n",
    "        rare_freq = rare_freq + value\n",
    "\n",
    "print('단어 집합(vocabulary)의 크기 :',total_cnt)\n",
    "print('등장 빈도가 %s번 이하인 희귀 단어의 수: %s'%(threshold - 1, rare_cnt))\n",
    "print('단어 집합에서 희귀 단어를 제외시킬 경우의 단어 집합의 크기 %s'%(total_cnt - rare_cnt))\n",
    "print(\"단어 집합에서 희귀 단어의 비율:\", (rare_cnt / total_cnt)*100)\n",
    "print(\"전체 등장 빈도에서 희귀 단어 등장 빈도 비율:\", (rare_freq / total_freq)*100)"
   ]
  },
  {
   "cell_type": "markdown",
   "metadata": {},
   "source": [
    "희귀 단어가 82%나 차지하고 있으므로, 확실히 희귀단어를 정리해주면 처리 성능이 좋아질 것으로 보임 "
   ]
  },
  {
   "cell_type": "code",
   "execution_count": 30,
   "metadata": {},
   "outputs": [],
   "source": [
    "#집합의 크기 3900개로 제한 \n",
    "src_vocab = 3900\n",
    "src_tokenizer = Tokenizer(num_words = src_vocab) # 단어 집합의 크기를 8,000으로 제한\n",
    "src_tokenizer.fit_on_texts(encoder_input_train) # 단어 집합 재생성."
   ]
  },
  {
   "cell_type": "markdown",
   "metadata": {},
   "source": [
    "*texts_to_sequences()는 생성된 단어 집합에 기반해서 주어진 텍스트 데이터의 단어를 모두 정수로 변환해주는 정수 인코딩임.    \n",
    "3900개로 했으니까 이후에는 3900개가 숫자들은 데이터에 존재하지 않을 예정. "
   ]
  },
  {
   "cell_type": "code",
   "execution_count": 31,
   "metadata": {},
   "outputs": [
    {
     "name": "stdout",
     "output_type": "stream",
     "text": [
      "[[206, 18, 3, 1794, 12, 191, 7, 30, 386, 2, 313, 4, 88, 49, 26, 154, 30, 592, 6, 17, 814, 1736, 1961, 9, 112, 622, 30, 191, 9, 45, 1108, 1, 49, 10, 56, 1363, 1, 754, 33, 2952, 1061, 5, 30, 3318, 372, 12, 40, 154, 9, 17, 185, 2567], [159, 1918, 3271, 5, 1, 88, 49, 26, 966, 252, 495, 4, 210, 487, 4, 616, 3241, 1, 887, 415, 6, 62, 5, 94, 597, 236, 301, 134, 1977, 2, 1078, 24, 102, 1, 44, 40, 3419, 91, 743, 334, 6, 355, 270, 323], [128, 338, 68, 3058, 147, 2, 1, 5, 771, 7, 157, 681, 9, 3, 5, 1, 1978, 385, 2, 734, 1, 1186, 286, 2626, 2, 626, 2918, 33, 36, 52, 44, 591, 2, 621, 2357, 41, 2000, 2, 36, 145, 6, 2626, 303, 2, 870, 21, 3, 625, 4, 1, 10]]\n"
     ]
    }
   ],
   "source": [
    "# 텍스트 시퀀스를 정수 시퀀스로 변환\n",
    "encoder_input_train = src_tokenizer.texts_to_sequences(encoder_input_train) \n",
    "encoder_input_test = src_tokenizer.texts_to_sequences(encoder_input_test)\n",
    "\n",
    "#잘 진행되었는지 샘플 출력\n",
    "print(encoder_input_train[:3])"
   ]
  },
  {
   "cell_type": "markdown",
   "metadata": {},
   "source": [
    "이젠 내가 무서워하는 숫자들만 나온다.. \n",
    "##### headlines에도 똑같이 정수로 모두 변경 해주고, decoder_input_train 입력해서 전체 단어 집합과 각 단어에 대한 빈도수 계산 해주기\n"
   ]
  },
  {
   "cell_type": "code",
   "execution_count": 32,
   "metadata": {},
   "outputs": [],
   "source": [
    "#Tokenizer로 word Vocabulary 만들어주기 \n",
    "tar_tokenizer = Tokenizer()\n",
    "tar_tokenizer.fit_on_texts(decoder_input_train)"
   ]
  },
  {
   "cell_type": "code",
   "execution_count": 33,
   "metadata": {},
   "outputs": [
    {
     "name": "stdout",
     "output_type": "stream",
     "text": [
      "단어 집합(vocabulary)의 크기 : 40710\n",
      "등장 빈도가 5번 이하인 희귀 단어의 수: 29368\n",
      "단어 집합에서 희귀 단어를 제외시킬 경우의 단어 집합의 크기 11342\n",
      "단어 집합에서 희귀 단어의 비율: 72.13952345860967\n",
      "전체 등장 빈도에서 희귀 단어 등장 빈도 비율: 6.1092254026663095\n"
     ]
    }
   ],
   "source": [
    "threshold = 6\n",
    "total_cnt = len(tar_tokenizer.word_index) # 단어의 수\n",
    "rare_cnt = 0 # 등장 빈도수가 threshold보다 작은 단어의 개수를 카운트\n",
    "total_freq = 0 # 훈련 데이터의 전체 단어 빈도수 총 합\n",
    "rare_freq = 0 # 등장 빈도수가 threshold보다 작은 단어의 등장 빈도수의 총 합\n",
    "\n",
    "# 단어와 빈도수의 쌍(pair)을 key와 value로 받는다.\n",
    "for key, value in tar_tokenizer.word_counts.items():\n",
    "    total_freq = total_freq + value\n",
    "\n",
    "    # 단어의 등장 빈도수가 threshold보다 작으면\n",
    "    if(value < threshold):\n",
    "        rare_cnt = rare_cnt + 1\n",
    "        rare_freq = rare_freq + value\n",
    "\n",
    "print('단어 집합(vocabulary)의 크기 :',total_cnt)\n",
    "print('등장 빈도가 %s번 이하인 희귀 단어의 수: %s'%(threshold - 1, rare_cnt))\n",
    "print('단어 집합에서 희귀 단어를 제외시킬 경우의 단어 집합의 크기 %s'%(total_cnt - rare_cnt))\n",
    "print(\"단어 집합에서 희귀 단어의 비율:\", (rare_cnt / total_cnt)*100)\n",
    "print(\"전체 등장 빈도에서 희귀 단어 등장 빈도 비율:\", (rare_freq / total_freq)*100)"
   ]
  },
  {
   "cell_type": "code",
   "execution_count": 34,
   "metadata": {},
   "outputs": [
    {
     "name": "stdout",
     "output_type": "stream",
     "text": [
      "input\n",
      "input  [[1, 30, 973, 389, 146, 7, 835, 3, 196, 453, 880, 131], [1, 1191, 30, 361, 943, 368, 4, 234], [1, 3008, 832, 4, 561, 2535, 14], [1, 21, 105, 754, 314, 102, 527, 5, 165, 310, 2115], [1, 310, 139, 256, 355, 17, 3848, 410, 541]]\n",
      "target\n",
      "decoder  [[30, 973, 389, 146, 7, 835, 3, 196, 453, 880, 131, 2], [1191, 30, 361, 943, 368, 4, 234, 2], [3008, 832, 4, 561, 2535, 14, 2], [21, 105, 754, 314, 102, 527, 5, 165, 310, 2115, 2], [310, 139, 256, 355, 17, 3848, 410, 541, 2]]\n"
     ]
    }
   ],
   "source": [
    "#위에 희귀 단어 제외 후 단어 집합의 크기가 4141이니까 4100개로 맞춰줄거임 \n",
    "\n",
    "tar_vocab = 4100\n",
    "tar_tokenizer = Tokenizer(num_words = tar_vocab) \n",
    "tar_tokenizer.fit_on_texts(decoder_input_train)\n",
    "tar_tokenizer.fit_on_texts(decoder_target_train)\n",
    "\n",
    "# 텍스트 시퀀스를 정수 시퀀스로 변환\n",
    "decoder_input_train = tar_tokenizer.texts_to_sequences(decoder_input_train) \n",
    "decoder_target_train = tar_tokenizer.texts_to_sequences(decoder_target_train)\n",
    "decoder_input_test = tar_tokenizer.texts_to_sequences(decoder_input_test)\n",
    "decoder_target_test = tar_tokenizer.texts_to_sequences(decoder_target_test)\n",
    "\n",
    "#잘 변환되었는지 확인\n",
    "print('input')\n",
    "print('input ',decoder_input_train[:5])\n",
    "print('target')\n",
    "print('decoder ',decoder_target_train[:5])"
   ]
  },
  {
   "cell_type": "code",
   "execution_count": 35,
   "metadata": {},
   "outputs": [
    {
     "name": "stdout",
     "output_type": "stream",
     "text": [
      "삭제할 훈련 데이터의 개수 : 4\n",
      "삭제할 테스트 데이터의 개수 : 1\n",
      "훈련 데이터의 개수 : 78684\n",
      "훈련 레이블의 개수 : 78684\n",
      "테스트 데이터의 개수 : 19670\n",
      "테스트 레이블의 개수 : 19670\n"
     ]
    },
    {
     "name": "stderr",
     "output_type": "stream",
     "text": [
      "/home/ssac8/anaconda3/envs/aiffel/lib/python3.7/site-packages/numpy/core/_asarray.py:83: VisibleDeprecationWarning: Creating an ndarray from ragged nested sequences (which is a list-or-tuple of lists-or-tuples-or ndarrays with different lengths or shapes) is deprecated. If you meant to do this, you must specify 'dtype=object' when creating the ndarray\n",
      "  return array(a, dtype, copy=False, order=order)\n"
     ]
    }
   ],
   "source": [
    "drop_train = [index for index, sentence in enumerate(decoder_input_train) if len(sentence) == 1]\n",
    "drop_test = [index for index, sentence in enumerate(decoder_input_test) if len(sentence) == 1]\n",
    "\n",
    "print('삭제할 훈련 데이터의 개수 :',len(drop_train))\n",
    "print('삭제할 테스트 데이터의 개수 :',len(drop_test))\n",
    "\n",
    "encoder_input_train = np.delete(encoder_input_train, drop_train, axis=0)\n",
    "decoder_input_train = np.delete(decoder_input_train, drop_train, axis=0)\n",
    "decoder_target_train = np.delete(decoder_target_train, drop_train, axis=0)\n",
    "\n",
    "encoder_input_test = np.delete(encoder_input_test, drop_test, axis=0)\n",
    "decoder_input_test = np.delete(decoder_input_test, drop_test, axis=0)\n",
    "decoder_target_test = np.delete(decoder_target_test, drop_test, axis=0)\n",
    "\n",
    "print('훈련 데이터의 개수 :', len(encoder_input_train))\n",
    "print('훈련 레이블의 개수 :',len(decoder_input_train))\n",
    "print('테스트 데이터의 개수 :',len(encoder_input_test))\n",
    "print('테스트 레이블의 개수 :',len(decoder_input_test))"
   ]
  },
  {
   "cell_type": "markdown",
   "metadata": {},
   "source": [
    "#### 패딩하기 \n",
    "서로 다른 길이의 샘플들을 병렬 처리 하기 위해 같은 길이로 맞춰주는 패딩 작업 "
   ]
  },
  {
   "cell_type": "code",
   "execution_count": 36,
   "metadata": {},
   "outputs": [],
   "source": [
    "encoder_input_train = pad_sequences(encoder_input_train, maxlen = text_max_len, padding='post')\n",
    "encoder_input_test = pad_sequences(encoder_input_test, maxlen = text_max_len, padding='post')\n",
    "decoder_input_train = pad_sequences(decoder_input_train, maxlen = headlines_max_len, padding='post')\n",
    "decoder_target_train = pad_sequences(decoder_target_train, maxlen = headlines_max_len, padding='post')\n",
    "decoder_input_test = pad_sequences(decoder_input_test, maxlen = headlines_max_len, padding='post')\n",
    "decoder_target_test = pad_sequences(decoder_target_test, maxlen = headlines_max_len, padding='post')"
   ]
  },
  {
   "cell_type": "markdown",
   "metadata": {},
   "source": [
    "-----"
   ]
  },
  {
   "cell_type": "markdown",
   "metadata": {},
   "source": [
    "### 모델 설계하기 "
   ]
  },
  {
   "cell_type": "code",
   "execution_count": 37,
   "metadata": {},
   "outputs": [
    {
     "name": "stdout",
     "output_type": "stream",
     "text": [
      "WARNING:tensorflow:Layer lstm will not use cuDNN kernel since it doesn't meet the cuDNN kernel criteria. It will use generic GPU kernel as fallback when running on GPU\n",
      "WARNING:tensorflow:Layer lstm_1 will not use cuDNN kernel since it doesn't meet the cuDNN kernel criteria. It will use generic GPU kernel as fallback when running on GPU\n",
      "WARNING:tensorflow:Layer lstm_2 will not use cuDNN kernel since it doesn't meet the cuDNN kernel criteria. It will use generic GPU kernel as fallback when running on GPU\n"
     ]
    }
   ],
   "source": [
    "#함수형 API를 이용한 인코더 설계\n",
    "\n",
    "from tensorflow.keras.layers import Input, LSTM, Embedding, Dense, Concatenate\n",
    "from tensorflow.keras.models import Model\n",
    "from tensorflow.keras.callbacks import EarlyStopping, ModelCheckpoint\n",
    "\n",
    "\n",
    "# 인코더 설계 시작\n",
    "embedding_dim = 128\n",
    "hidden_size = 256\n",
    "\n",
    "# 인코더\n",
    "encoder_inputs = Input(shape=(text_max_len,))\n",
    "\n",
    "# 인코더의 임베딩 층\n",
    "enc_emb = Embedding(src_vocab, embedding_dim)(encoder_inputs)\n",
    "\n",
    "# 인코더의 LSTM 1\n",
    "encoder_lstm1 = LSTM(hidden_size, return_sequences=True, return_state=True ,dropout = 0.4, recurrent_dropout = 0.4)\n",
    "encoder_output1, state_h1, state_c1 = encoder_lstm1(enc_emb)\n",
    "\n",
    "# 인코더의 LSTM 2\n",
    "encoder_lstm2 = LSTM(hidden_size, return_sequences=True, return_state=True, dropout=0.4, recurrent_dropout=0.4)\n",
    "encoder_output2, state_h2, state_c2 = encoder_lstm2(encoder_output1)\n",
    "\n",
    "# 인코더의 LSTM 3\n",
    "encoder_lstm3 = LSTM(hidden_size, return_state=True, return_sequences=True, dropout=0.4, recurrent_dropout=0.4)\n",
    "encoder_outputs, state_h, state_c= encoder_lstm3(encoder_output2)"
   ]
  },
  {
   "cell_type": "markdown",
   "metadata": {},
   "source": [
    "인코더의 LSTM은 총 3개의 층으로 구성해서 모델의 복잡도를 높임.    \n",
    "3개의 층을 지나서 인코더로 부터 나온 출력 벡터를 디코더로 보내줌.   \n"
   ]
  },
  {
   "cell_type": "code",
   "execution_count": 38,
   "metadata": {},
   "outputs": [
    {
     "name": "stdout",
     "output_type": "stream",
     "text": [
      "WARNING:tensorflow:Layer lstm_3 will not use cuDNN kernel since it doesn't meet the cuDNN kernel criteria. It will use generic GPU kernel as fallback when running on GPU\n"
     ]
    }
   ],
   "source": [
    "# 디코더 설계\n",
    "\n",
    "decoder_inputs = Input(shape=(None,))\n",
    "\n",
    "# 디코더의 임베딩 층\n",
    "dec_emb_layer = Embedding(tar_vocab, embedding_dim)\n",
    "dec_emb = dec_emb_layer(decoder_inputs)\n",
    "\n",
    "# 디코더의 LSTM\n",
    "decoder_lstm = LSTM(hidden_size, return_sequences = True, return_state = True, dropout = 0.4, recurrent_dropout=0.2)\n",
    "decoder_outputs, _, _ = decoder_lstm(dec_emb, initial_state = [state_h, state_c])"
   ]
  },
  {
   "cell_type": "code",
   "execution_count": 39,
   "metadata": {},
   "outputs": [
    {
     "name": "stdout",
     "output_type": "stream",
     "text": [
      "Model: \"model\"\n",
      "__________________________________________________________________________________________________\n",
      "Layer (type)                    Output Shape         Param #     Connected to                     \n",
      "==================================================================================================\n",
      "input_1 (InputLayer)            [(None, 75)]         0                                            \n",
      "__________________________________________________________________________________________________\n",
      "embedding (Embedding)           (None, 75, 128)      499200      input_1[0][0]                    \n",
      "__________________________________________________________________________________________________\n",
      "lstm (LSTM)                     [(None, 75, 256), (N 394240      embedding[0][0]                  \n",
      "__________________________________________________________________________________________________\n",
      "input_2 (InputLayer)            [(None, None)]       0                                            \n",
      "__________________________________________________________________________________________________\n",
      "lstm_1 (LSTM)                   [(None, 75, 256), (N 525312      lstm[0][0]                       \n",
      "__________________________________________________________________________________________________\n",
      "embedding_1 (Embedding)         (None, None, 128)    524800      input_2[0][0]                    \n",
      "__________________________________________________________________________________________________\n",
      "lstm_2 (LSTM)                   [(None, 75, 256), (N 525312      lstm_1[0][0]                     \n",
      "__________________________________________________________________________________________________\n",
      "lstm_3 (LSTM)                   [(None, None, 256),  394240      embedding_1[0][0]                \n",
      "                                                                 lstm_2[0][1]                     \n",
      "                                                                 lstm_2[0][2]                     \n",
      "__________________________________________________________________________________________________\n",
      "dense (Dense)                   (None, None, 4100)   1053700     lstm_3[0][0]                     \n",
      "==================================================================================================\n",
      "Total params: 3,916,804\n",
      "Trainable params: 3,916,804\n",
      "Non-trainable params: 0\n",
      "__________________________________________________________________________________________________\n"
     ]
    }
   ],
   "source": [
    "# 디코더의 출력층\n",
    "decoder_softmax_layer = Dense(tar_vocab, activation = 'softmax')\n",
    "decoder_softmax_outputs = decoder_softmax_layer(decoder_outputs) \n",
    "\n",
    "# 모델 정의\n",
    "model = Model([encoder_inputs, decoder_inputs], decoder_softmax_outputs)\n",
    "model.summary()"
   ]
  },
  {
   "cell_type": "markdown",
   "metadata": {},
   "source": [
    "현재까지 해준 것은 hidden state와 cell state를 디코더의 초기 state로 사용하는 가장 기본적인 seq2seq.    \n"
   ]
  },
  {
   "cell_type": "markdown",
   "metadata": {},
   "source": [
    "-----"
   ]
  },
  {
   "cell_type": "markdown",
   "metadata": {},
   "source": [
    "### Step 3. 어텐션 메커니즘 사용하기 (추상적 요약)     \n",
    "   * 일반적인 seq2seq 말고 어텐션 메커니즘 사용한 seq2seq 사용해보기   \n"
   ]
  },
  {
   "cell_type": "code",
   "execution_count": 40,
   "metadata": {},
   "outputs": [],
   "source": [
    "#깃허브에 공개 돼 있는 어텐션 함수 다운로드 \n",
    "urllib.request.urlretrieve(\"https://raw.githubusercontent.com/thushv89/attention_keras/master/src/layers/attention.py\", filename=\"attention.py\")\n",
    "from attention import AttentionLayer"
   ]
  },
  {
   "cell_type": "code",
   "execution_count": 41,
   "metadata": {},
   "outputs": [
    {
     "name": "stdout",
     "output_type": "stream",
     "text": [
      "Model: \"model_1\"\n",
      "__________________________________________________________________________________________________\n",
      "Layer (type)                    Output Shape         Param #     Connected to                     \n",
      "==================================================================================================\n",
      "input_1 (InputLayer)            [(None, 75)]         0                                            \n",
      "__________________________________________________________________________________________________\n",
      "embedding (Embedding)           (None, 75, 128)      499200      input_1[0][0]                    \n",
      "__________________________________________________________________________________________________\n",
      "lstm (LSTM)                     [(None, 75, 256), (N 394240      embedding[0][0]                  \n",
      "__________________________________________________________________________________________________\n",
      "input_2 (InputLayer)            [(None, None)]       0                                            \n",
      "__________________________________________________________________________________________________\n",
      "lstm_1 (LSTM)                   [(None, 75, 256), (N 525312      lstm[0][0]                       \n",
      "__________________________________________________________________________________________________\n",
      "embedding_1 (Embedding)         (None, None, 128)    524800      input_2[0][0]                    \n",
      "__________________________________________________________________________________________________\n",
      "lstm_2 (LSTM)                   [(None, 75, 256), (N 525312      lstm_1[0][0]                     \n",
      "__________________________________________________________________________________________________\n",
      "lstm_3 (LSTM)                   [(None, None, 256),  394240      embedding_1[0][0]                \n",
      "                                                                 lstm_2[0][1]                     \n",
      "                                                                 lstm_2[0][2]                     \n",
      "__________________________________________________________________________________________________\n",
      "attention_layer (AttentionLayer ((None, None, 256),  131328      lstm_2[0][0]                     \n",
      "                                                                 lstm_3[0][0]                     \n",
      "__________________________________________________________________________________________________\n",
      "concat_layer (Concatenate)      (None, None, 512)    0           lstm_3[0][0]                     \n",
      "                                                                 attention_layer[0][0]            \n",
      "__________________________________________________________________________________________________\n",
      "dense_1 (Dense)                 (None, None, 4100)   2103300     concat_layer[0][0]               \n",
      "==================================================================================================\n",
      "Total params: 5,097,732\n",
      "Trainable params: 5,097,732\n",
      "Non-trainable params: 0\n",
      "__________________________________________________________________________________________________\n"
     ]
    }
   ],
   "source": [
    "#이전 설계한 디코드 출력층 아래와 같이 수정하기 \n",
    "\n",
    "# 어텐션 층(어텐션 함수)\n",
    "attn_layer = AttentionLayer(name='attention_layer')\n",
    "# 인코더와 디코더의 모든 time step의 hidden state를 어텐션 층에 전달하고 결과를 리턴\n",
    "attn_out, attn_states = attn_layer([encoder_outputs, decoder_outputs])\n",
    "\n",
    "# 어텐션의 결과와 디코더의 hidden state들을 연결\n",
    "decoder_concat_input = Concatenate(axis = -1, name='concat_layer')([decoder_outputs, attn_out])\n",
    "\n",
    "# 디코더의 출력층\n",
    "decoder_softmax_layer = Dense(tar_vocab, activation='softmax')\n",
    "decoder_softmax_outputs = decoder_softmax_layer(decoder_concat_input)\n",
    "\n",
    "# 모델 정의\n",
    "model = Model([encoder_inputs, decoder_inputs], decoder_softmax_outputs)\n",
    "model.summary()"
   ]
  },
  {
   "cell_type": "markdown",
   "metadata": {},
   "source": [
    "### 모델 훈련하기 "
   ]
  },
  {
   "cell_type": "code",
   "execution_count": 44,
   "metadata": {},
   "outputs": [
    {
     "name": "stdout",
     "output_type": "stream",
     "text": [
      "Epoch 1/50\n",
      "308/308 [==============================] - 240s 779ms/step - loss: 0.7280 - val_loss: 0.7722\n",
      "Epoch 2/50\n",
      "308/308 [==============================] - 243s 790ms/step - loss: 0.7080 - val_loss: 0.7668\n",
      "Epoch 3/50\n",
      "308/308 [==============================] - 248s 804ms/step - loss: 0.6921 - val_loss: 0.7540\n",
      "Epoch 4/50\n",
      "308/308 [==============================] - 250s 812ms/step - loss: 0.6780 - val_loss: 0.7480\n",
      "Epoch 5/50\n",
      "308/308 [==============================] - 249s 809ms/step - loss: 0.6651 - val_loss: 0.7434\n",
      "Epoch 6/50\n",
      "308/308 [==============================] - 248s 804ms/step - loss: 0.6533 - val_loss: 0.7380\n",
      "Epoch 7/50\n",
      "308/308 [==============================] - 247s 801ms/step - loss: 0.6420 - val_loss: 0.7336\n",
      "Epoch 8/50\n",
      "308/308 [==============================] - 247s 802ms/step - loss: 0.6318 - val_loss: 0.7291\n",
      "Epoch 9/50\n",
      "308/308 [==============================] - 243s 789ms/step - loss: 0.6223 - val_loss: 0.7282\n",
      "Epoch 10/50\n",
      "308/308 [==============================] - 244s 791ms/step - loss: 0.6130 - val_loss: 0.7255\n",
      "Epoch 11/50\n",
      "308/308 [==============================] - 242s 785ms/step - loss: 0.6049 - val_loss: 0.7221\n",
      "Epoch 12/50\n",
      "308/308 [==============================] - 239s 775ms/step - loss: 0.5968 - val_loss: 0.7223\n",
      "Epoch 13/50\n",
      "308/308 [==============================] - 238s 774ms/step - loss: 0.5891 - val_loss: 0.7182\n",
      "Epoch 14/50\n",
      "308/308 [==============================] - 237s 771ms/step - loss: 0.5818 - val_loss: 0.7174\n",
      "Epoch 15/50\n",
      "308/308 [==============================] - 242s 787ms/step - loss: 0.5751 - val_loss: 0.7167\n",
      "Epoch 16/50\n",
      "308/308 [==============================] - 239s 774ms/step - loss: 0.5688 - val_loss: 0.7128\n",
      "Epoch 17/50\n",
      "308/308 [==============================] - 245s 795ms/step - loss: 0.5622 - val_loss: 0.7143\n",
      "Epoch 18/50\n",
      "308/308 [==============================] - 246s 800ms/step - loss: 0.5562 - val_loss: 0.7124\n",
      "Epoch 19/50\n",
      "308/308 [==============================] - 245s 795ms/step - loss: 0.5507 - val_loss: 0.7128\n",
      "Epoch 20/50\n",
      "308/308 [==============================] - 246s 799ms/step - loss: 0.5451 - val_loss: 0.7114\n",
      "Epoch 21/50\n",
      "308/308 [==============================] - 249s 808ms/step - loss: 0.5401 - val_loss: 0.7106\n",
      "Epoch 22/50\n",
      "308/308 [==============================] - 261s 846ms/step - loss: 0.5353 - val_loss: 0.7095\n",
      "Epoch 23/50\n",
      "308/308 [==============================] - 257s 833ms/step - loss: 0.5303 - val_loss: 0.7102\n",
      "Epoch 24/50\n",
      "308/308 [==============================] - 246s 797ms/step - loss: 0.5260 - val_loss: 0.7096\n",
      "Epoch 00024: early stopping\n"
     ]
    }
   ],
   "source": [
    "model.compile(optimizer='rmsprop', loss='sparse_categorical_crossentropy')\n",
    "es = EarlyStopping(monitor='val_loss', mode='min', verbose=1, patience = 2)\n",
    "history = model.fit(x = [encoder_input_train, decoder_input_train], y = decoder_target_train, \\\n",
    "          validation_data = ([encoder_input_test, decoder_input_test], decoder_target_test),\n",
    "          batch_size = 256, callbacks=[es], epochs = 50)"
   ]
  },
  {
   "cell_type": "markdown",
   "metadata": {},
   "source": [
    "EarlyStopping은 조기 종료로, 특정 조건이 충족되면 모델의 훈련 멈추는 역할 함.    \n",
    "여기서는 val_loss에서 patiensce = 2, 2회 관측 되면 멈추도록 설정 함    "
   ]
  },
  {
   "cell_type": "code",
   "execution_count": 45,
   "metadata": {},
   "outputs": [
    {
     "data": {
      "image/png": "[encoded data removed]",
      "text/plain": [
       "<Figure size 432x288 with 1 Axes>"
      ]
     },
     "metadata": {
      "needs_background": "light"
     },
     "output_type": "display_data"
    }
   ],
   "source": [
    "#훈련 데이터의 손실과 검증 데이터의 손실이 즐어드는 과정 시각화   \n",
    "\n",
    "plt.plot(history.history['loss'], label='train')\n",
    "plt.plot(history.history['val_loss'], label='test')\n",
    "plt.legend()\n",
    "plt.show()"
   ]
  },
  {
   "cell_type": "markdown",
   "metadata": {},
   "source": [
    "### 인퍼런스 모델 구현하기 "
   ]
  },
  {
   "cell_type": "code",
   "execution_count": 68,
   "metadata": {},
   "outputs": [],
   "source": [
    "#테스트 단계에서는 정수 인덱스를 텍스트 데이터로 다시 복원해야함.   \n",
    "#그래서 3개의 사전을 아래와 같이 준비! \n",
    "src_index_to_word = src_tokenizer.index_word # 원문 단어 집합에서 정수 -> 단어를 얻음\n",
    "tar_word_to_index = tar_tokenizer.word_index # 요약 단어 집합에서 단어 -> 정수를 얻음\n",
    "tar_index_to_word = tar_tokenizer.index_word # 요약 단어 집합에서 정수 -> 단어를 얻음"
   ]
  },
  {
   "cell_type": "markdown",
   "metadata": {},
   "source": [
    "(참고) seq2seq는 훈련할 때와 실제 동작할때 (인퍼런스 단계)의 방식이 다르므로,   \n",
    "그에 맞게 모델 설계를 별개로 진행해야함.   \n",
    "   \n",
    "   인코더 모델과 디코더 모델을 분리해서 설계 \n"
   ]
  },
  {
   "cell_type": "code",
   "execution_count": 69,
   "metadata": {},
   "outputs": [],
   "source": [
    "# 인코더 설계\n",
    "encoder_model = Model(inputs=encoder_inputs, outputs=[encoder_outputs, state_h, state_c])\n",
    "\n",
    "# 이전 시점의 상태들을 저장하는 텐서\n",
    "decoder_state_input_h = Input(shape=(hidden_size,))\n",
    "decoder_state_input_c = Input(shape=(hidden_size,))\n",
    "\n",
    "dec_emb2 = dec_emb_layer(decoder_inputs)\n",
    "# 문장의 다음 단어를 예측하기 위해서 초기 상태(initial_state)를 이전 시점의 상태로 사용. 이는 뒤의 함수 decode_sequence()에 구현\n",
    "# 훈련 과정에서와 달리 LSTM의 리턴하는 은닉 상태와 셀 상태인 state_h와 state_c를 버리지 않음.\n",
    "decoder_outputs2, state_h2, state_c2 = decoder_lstm(dec_emb2, initial_state=[decoder_state_input_h, decoder_state_input_c])"
   ]
  },
  {
   "cell_type": "code",
   "execution_count": 70,
   "metadata": {},
   "outputs": [],
   "source": [
    "# 어텐션 함수\n",
    "decoder_hidden_state_input = Input(shape=(text_max_len, hidden_size))\n",
    "attn_out_inf, attn_states_inf = attn_layer([decoder_hidden_state_input, decoder_outputs2])\n",
    "decoder_inf_concat = Concatenate(axis=-1, name='concat')([decoder_outputs2, attn_out_inf])\n",
    "\n",
    "# 디코더의 출력층\n",
    "decoder_outputs2 = decoder_softmax_layer(decoder_inf_concat) \n",
    "\n",
    "# 최종 디코더 모델\n",
    "decoder_model = Model(\n",
    "    [decoder_inputs] + [decoder_hidden_state_input,decoder_state_input_h, decoder_state_input_c],\n",
    "    [decoder_outputs2] + [state_h2, state_c2])"
   ]
  },
  {
   "cell_type": "code",
   "execution_count": 71,
   "metadata": {},
   "outputs": [],
   "source": [
    "def decode_sequence(input_seq):\n",
    "    # 입력으로부터 인코더의 상태를 얻음\n",
    "    e_out, e_h, e_c = encoder_model.predict(input_seq)\n",
    "\n",
    "     # <SOS>에 해당하는 토큰 생성\n",
    "    target_seq = np.zeros((1,1))\n",
    "    target_seq[0, 0] = tar_word_to_index['sostoken']\n",
    "\n",
    "    stop_condition = False\n",
    "    decoded_sentence = ''\n",
    "    while not stop_condition: # stop_condition이 True가 될 때까지 루프 반복\n",
    "\n",
    "        output_tokens, h, c = decoder_model.predict([target_seq] + [e_out, e_h, e_c])\n",
    "        sampled_token_index = np.argmax(output_tokens[0, -1, :])\n",
    "        sampled_token = tar_index_to_word[sampled_token_index]\n",
    "\n",
    "        if(sampled_token!='eostoken'):\n",
    "            decoded_sentence += ' '+sampled_token\n",
    "\n",
    "        #  <eos>에 도달하거나 최대 길이를 넘으면 중단.\n",
    "        if (sampled_token == 'eostoken'  or len(decoded_sentence.split()) >= (_max_len-1)):\n",
    "            stop_condition = True\n",
    "\n",
    "        # 길이가 1인 타겟 시퀀스를 업데이트\n",
    "        target_seq = np.zeros((1,1))\n",
    "        target_seq[0, 0] = sampled_token_index\n",
    "\n",
    "        # 상태를 업데이트 합니다.\n",
    "        e_h, e_c = h, c\n",
    "\n",
    "    return decoded_sentence"
   ]
  },
  {
   "cell_type": "markdown",
   "metadata": {},
   "source": [
    "### 모델 테스트하기   "
   ]
  },
  {
   "cell_type": "code",
   "execution_count": 72,
   "metadata": {},
   "outputs": [],
   "source": [
    "# 원문의 정수 시퀀스를 텍스트 시퀀스로 변환\n",
    "def seq2text(input_seq):\n",
    "    temp=''\n",
    "    for i in input_seq:\n",
    "        if(i!=0):\n",
    "            temp = temp + src_index_to_word[i]+' '\n",
    "    return temp\n",
    "\n",
    "# 요약문의 정수 시퀀스를 텍스트 시퀀스로 변환\n",
    "def seq2summary(input_seq):\n",
    "    temp=''\n",
    "    for i in input_seq:\n",
    "        if((i!=0 and i!=tar_word_to_index['sostoken']) and i!=tar_word_to_index['eostoken']):\n",
    "            temp = temp + tar_index_to_word[i] + ' '\n",
    "    return temp"
   ]
  },
  {
   "cell_type": "markdown",
   "metadata": {},
   "source": [
    "### Step 4. 실제 결과와 요약문 비교하기 (추상적 요약)   \n",
    "* 원래의 요약문과 학습을 통해 얻은 추상적 요약의 결과 비교 해보기   "
   ]
  },
  {
   "cell_type": "code",
   "execution_count": 73,
   "metadata": {},
   "outputs": [
    {
     "name": "stdout",
     "output_type": "stream",
     "text": [
      "원문 : the us defence department has released a drone footage showing us troops trying to escape a militant in last year a total of 46 us and troops were by more than 100 isis outside the village of five troops and four us special forces were killed in the \n",
      "실제 요약 : video us troops try to escape militant in \n",
      "예측 요약 :  us military drone used to us army base\n",
      "\n",
      "\n",
      "원문 : the election commission is likely to hold assembly elections in andhra pradesh odisha and pradesh with the 2019 lok sabha elections reports said elections in jammu and kashmir may also be held alongside general elections or before that an official said the commission is bound to hold elections in j k within six months after the assembly is \n",
      "실제 요약 : elections in 4 states may be held with 2019 ls polls report \n",
      "예측 요약 :  ec to contest polls in j k amid election results\n",
      "\n",
      "\n",
      "원문 : a has claimed that forward and premier top injury in the champions league final is punishment for breaking his fast the further said that the injury suffered by is good for him left the field in during the final and is currently for the world cup \n",
      "실제 요약 : injury for breaking fast \n",
      "예측 요약 :  chelsea win a season to win\n",
      "\n",
      "\n",
      "원문 : addressing students in singapore pm narendra modi said he has not taken a for even 15 minutes since 2001 he said he feels that he does not have the right to sleep as soldiers bear weather conditions to protect india and several work as to bring up children he added the common man him \n",
      "실제 요약 : haven't taken even a 15 minute since pm modi \n",
      "예측 요약 :  pm modi not to get stuck in getting stuck pm modi\n",
      "\n",
      "\n",
      "원문 : dating app has reportedly turned down a million acquisition offer from match group that owns various dating apps including was founded in 2014 by a co founder of who filed a sexual harassment suit against it allows both men and women to their interest but only lets women a conversation n \n",
      "실제 요약 : dating app rejects mn offer from tinder owner \n",
      "예측 요약 :  dating app for tinder for tinder\n",
      "\n",
      "\n",
      "원문 : actress sonam kapoor while about her comments on kangana ranaut at an event wrote on instagram media have me or taken my out of and made other women sonam added women need to stand together not each other down with and love is always the answer \n",
      "실제 요약 : media me sonam on kangana remark \n",
      "예측 요약 :  kangana's sister on her\n",
      "\n",
      "\n",
      "원문 : west bengal cm mamata banerjee has said she is to with congress to ensure that bjp is not elected in the 2019 elections adding that bjp leaders like a hundred stating that she shares very good relations with congress leader sonia gandhi cm mamata described congress president rahul gandhi as much junior \n",
      "실제 요약 : can ally with cong to remove bjp's hundred mamata \n",
      "예측 요약 :  congress will be in 2019 if congress wins 2019 mamata\n",
      "\n",
      "\n",
      "원문 : as per reports actress kim sharma who with the 2000 film has gone after she from her husband ali a based businessman she quit her job as the ceo of chain of hotels and is trying to her business in mumbai according to a source is currently dating another woman \n",
      "실제 요약 : kim sharma after from husband reports \n",
      "예측 요약 :  kim co founder khan to be a week reports\n",
      "\n",
      "\n",
      "원문 : congress president rahul gandhi on thursday tweeted that there is a leak in everything such as aadhaar election dates and cbse and exam papers referring to pm narendra modi he added that the security guard ' is this comes after cbse announced re examination of class 10 paper and class 12 paper after a paper leak \n",
      "실제 요약 : data aadhaar exam there's a leak in everything rahul \n",
      "예측 요약 :  aadhaar data on paper leak rahul gandhi\n",
      "\n",
      "\n",
      "원문 : the house in delhi's area where 11 people of a family were found dead has 11 coming out of the wall near the entrance out of these four are straight while the remaining seven are reportedly to the four and seven further their is similar to the position of the dead bodies \n",
      "실제 요약 : 11 hanging out of delhi house where 11 were found dead \n",
      "예측 요약 :  11 dead as wall found in kerala\n",
      "\n",
      "\n",
      "원문 : the cash pakistan government has approved an over crore package for its national carrier which has been running into losses for years it is the first package approved by government of pm imran khan who is also the minister in charge of the aviation division has been suffering losses worth nearly crore every month \n",
      "실제 요약 : cash pak govt approves cr for national \n",
      "예측 요약 :  govt approves crore for all time of 25 years\n",
      "\n",
      "\n",
      "원문 : actress sunny and her husband have said that their friend television producer gupta is a of boss 11 we want to wish good when he comes out of the house he'll still be and he won't go said the couple for the reality show haven't been revealed officially \n",
      "실제 요약 : my friend tv producer vikas gupta is in bigg boss 11 leone \n",
      "예측 요약 :  my husband would've been kept me sunny leone\n",
      "\n",
      "\n",
      "원문 : yoga guru ramdev has stated it will take another two months to set up messaging app which was launched in may as a rival to whatsapp adding that are currently he also said we need to look into large user traffic a day after was launched it was pulled down following alleged privacy concerns \n",
      "실제 요약 : need 2 more months to set up app ramdev \n",
      "예측 요약 :  ramdev to launch app for 3 months\n",
      "\n",
      "\n",
      "원문 : on the 26 11 mumbai anniversary pm narendra modi on monday paid tribute to the victims who had lost their lives and expressed with their families a nation to our police and security forces who the terrorists he added president ram nath kovind tweeted india remains honour bound to justice and defeating terrorism \n",
      "실제 요약 : nation to forces who terrorists during 26 11 pm \n",
      "예측 요약 :  pm modi pays tribute to victims of\n",
      "\n",
      "\n",
      "원문 : president appeared at a press conference holding a of 47 with the words for journalists on it the had a bottle of liquor instead of the bullet magazine earlier had called journalists and accused them of being people who write about everything and understand nothing \n",
      "실제 요약 : prez shows 47 to the press \n",
      "예측 요약 :  venezuelan president president naidu\n",
      "\n",
      "\n",
      "원문 : congress leader shashi tharoor has shared pictures of a hotel room in kerala's where actor shah rukh khan had stayed in 2013 i took rest in the room you in 2013 which has been into a for you tharoor wrote the is by cut out of you no place for rest tharoor added \n",
      "실제 요약 : tharoor stays in same hotel room once by srk shares pics \n",
      "예측 요약 :  tharoor shares pic of srk anushka's srk anushka's pic\n",
      "\n",
      "\n",
      "원문 : the supreme court has closed a nine year old case against for a man named in 2008 the decision came after the actor an apology to the and the apex court the actor had when he had gone to see film shoot and the act was also caught on camera \n",
      "실제 요약 : sc closes 9 yr old case against govinda for a man \n",
      "예측 요약 :  sc stays man who accused of man who gets bail\n",
      "\n",
      "\n",
      "원문 : following chennai super kings captain ms 44 ball against kings xi punjab virender sehwag said knock from dhoni kept on the of their seats sehwag who praised dhoni in his tweet also wrote chris gayle the universe boss was our did well to in the middle overs \n",
      "실제 요약 : ms dhoni kept everyone on the of their seats sehwag \n",
      "예측 요약 :  sehwag ji hai harbhajan on dhoni's ball\n",
      "\n",
      "\n",
      "원문 : five time winner lionel messi will not play for argentina for the rest of 2018 according to reports the 31 year old barcelona forward has reportedly told the management that he won't be available for and will later make a decision on whether he'll return next year messi scored just one goal in 2018 world cup campaign \n",
      "실제 요약 : messi to not play for argentina in 2018 reports \n",
      "예측 요약 :  messi to play for not paying for juventus\n",
      "\n",
      "\n",
      "원문 : the in a joint statement announced that they will stop their personal apps in 2019 launched in 2015 the apps let offer advice and other to their users we hope this journey as much as we have and we look forward to ahead the statement added \n",
      "실제 요약 : to shut down their personal apps in 2019 \n",
      "예측 요약 :  apple to stop apps from using phones\n",
      "\n",
      "\n",
      "원문 : shiv sena chief thackeray today arrived in ayodhya for a two day visit to participate in the by and backed by rss thackeray is expected to perform a and visit the site of the temple as per reports two lakh people are expected to attend events calling for the construction of ram \n",
      "실제 요약 : sena chief reaches ayodhya to take part in vhp event \n",
      "예측 요약 :  shiv sena to celebrate diwali in 24 days\n",
      "\n",
      "\n",
      "원문 : civil aviation ministry joint secretary has said are looking to form a drone alliance on the lines of solar alliance wherein other countries will accept made ã¢ââ the ministry plans to further on the body during the global aviation summit in january this comes after india's first ever drone policy came into effect on december 1 \n",
      "실제 요약 : india plans to form global drone alliance aviation ministry \n"
     ]
    },
    {
     "name": "stdout",
     "output_type": "stream",
     "text": [
      "예측 요약 :  govt plans to use govt to build govt land alliance with\n",
      "\n",
      "\n",
      "원문 : virat kohli has become the first player to win all three major annual icc awards in a single year for his in 2018 kohli was named men's test player of the year for the first time while he also won cricketer and odi player of year awards he was also named captain of test and odi teams of 2018 \n",
      "실제 요약 : kohli first player to win all three top icc awards in single year \n",
      "예측 요약 :  kohli becomes 1st ever player to win top int'l cricketer award\n",
      "\n",
      "\n",
      "원문 : a poster showing telangana chief minister rao as lord ram was put up in reddy district ahead of the ruling telangana rally on sunday around 25 lakh people are expected to attend the rally amid reports that rao may the of telangana assembly and call for early elections \n",
      "실제 요약 : poster of telangana cm as lord ram put up ahead of rally \n",
      "예측 요약 :  poster of jd u 17 dalit in telangana\n",
      "\n",
      "\n",
      "원문 : the advertising standards council of india has found advertisements of companies including bharti airtel republic tv system idea and among others to be has complaints against out of advertisements across such as personal care healthcare education and food and \n",
      "실제 요약 : airtel republic tv ads found to be misleading \n",
      "예측 요약 :  indian tv channels hacked airtel\n",
      "\n",
      "\n",
      "원문 : amid the india china in chinese state media on tuesday said e must new delhi a it said india will greater losses than in if it military and the indian military will be out of the area by chinese soldiers it added that india is acting before the international community \n",
      "실제 요약 : time to teach india a chinese media \n",
      "예측 요약 :  china to reduce india chinese troops in south china\n",
      "\n",
      "\n",
      "원문 : up government has proposed housing cow in which are 69 and 33 short as per national crime records 2015 prison the capacity of across up is 49 but they hold minister of state for kumar singh said the have and land to set up \n",
      "실제 요약 : up govt planning cow in 69 jails \n",
      "예측 요약 :  up govt to cow cow than cow\n",
      "\n",
      "\n",
      "원문 : in the wake of recent attacks on hindi speaking workers in gujarat following the rape of a 14 month old girl gujarat energy minister patel said the people of bihar should feel 100 safe in gujarat patel blamed congress mla for the attacks and added peace that has since among and non will continue \n",
      "실제 요약 : people of bihar 100 safe in gujarat says gujarat minister \n",
      "예측 요약 :  gujarat mla can be hit by guj bjp mla\n",
      "\n",
      "\n",
      "원문 : at least ten people were killed in west bengal as twin through kolkata and on tuesday night mobile and internet services were by the which also affected rail road and air traffic the kolkata metro railway services were also as passengers got stuck in a tunnel nn \n",
      "실제 요약 : storm in west bengal kills 10 traffic \n",
      "예측 요약 :  10 killed in west bengal\n",
      "\n",
      "\n",
      "원문 : imran khan has made his directorial debut with a short film titled mars keep walking india' based on india's mission the film stars abhishek prakash and in lead roles imran shared the film's poster and captioned it it's been my and my to tell this story of india's mission to mars \n",
      "실제 요약 : imran makes debut with short film on \n",
      "예측 요약 :  imran khan shares bollywood debut film with 3d\n",
      "\n",
      "\n",
      "원문 : a 29 year old woman constable has moved the bombay high court after her plea for sex change surgery was allegedly denied by the maharashtra police police officials reportedly told her the department might serve her a notice after the surgery if medical tests the constable is no longer female her lawyer has to authorities to have a approach \n",
      "실제 요약 : woman cop moves hc after being denied sex change surgery \n",
      "예측 요약 :  woman seeks sex change in maha hc\n",
      "\n",
      "\n",
      "원문 : scientists have suggested big that could the sun with a of the earth could be very or very ã¢ââ they said from countries including india and china believe since developing countries are most to global they should be more involved in \n",
      "실제 요약 : giant in to solve global scientists \n",
      "예측 요약 :  scientists discover a planet\n",
      "\n",
      "\n",
      "원문 : information and minister smriti irani on monday said public should create quality content and improve its revenue generation through advertisements to the on she also on the need to develop regional language content for for better and effective communication to people in all the parts of the country \n",
      "실제 요약 : improve content get more ads smriti irani \n",
      "예측 요약 :  make social media to curb study\n",
      "\n",
      "\n",
      "원문 : according to research firm software china has completely blocked whatsapp including the exchange of text messages ahead of the ruling party's meeting next month in july china blocked whatsapp people from sending photos videos and voice notes software said china may have recently its to block messaging \n",
      "실제 요약 : china blocks whatsapp ahead of ruling party meeting \n",
      "예측 요약 :  chinese students whatsapp to block users' photos\n",
      "\n",
      "\n",
      "원문 : new sanctions against russia which us president donald trump has signed into law amount to a full scale trade war russian pm said on wednesday adding that the measures the complete of president trump said that the sanctions have put an end to hopes for our relations with the new us administration \n",
      "실제 요약 : russia sanctions by us to trade war russian pm \n",
      "예측 요약 :  trump signs sanctions on new trade deal\n",
      "\n",
      "\n",
      "원문 : has launched an internal probe into possible corruption after it was alleged that two firms it controlled engaged in transactions worth million crore which resulted in payments the largest in europe said it was practices to ensure they are not it is already being for corruption in britain \n",
      "실제 요약 : launches corruption investigation \n",
      "예측 요약 :  launches probe into firms\n",
      "\n",
      "\n",
      "원문 : the rajkummar rao starrer will against other films in the foreign language film category at 2018 for the fifth time in the last six years a record countries have submitted films for for the academy awards for the awards will be announced on january 23 2018 \n",
      "실제 요약 : to against 91 films at oscars \n",
      "예측 요약 :  rajkummar rao starrer to be held in film\n",
      "\n",
      "\n",
      "원문 : former australian cricketer claims that the australian team is and said they need a kick up the after their series loss against pakistan was also critical of being named the vice captain of the australian team said i don't think he's a spot and that's why it was a selection \n",
      "실제 요약 : australian team needs a kick up the warne \n",
      "예측 요약 :  aus should treat me like ex pak captain\n",
      "\n",
      "\n",
      "원문 : smriti and raj scored unbeaten while registered figures of 3 23 to help india take a 2 0 lead over new zealand in the three match icc women's championship one day international series india won by eight wickets with balls to in her last ten odis has scored at least a half century on eight \n",
      "실제 요약 : mithali help india take 2 0 lead vs nz \n",
      "예측 요약 :  priyanka's ton in 3 india vs nz to win a t20i series\n",
      "\n",
      "\n",
      "원문 : the us has expressed concerns over a russian satellite very behaviour the us said that the satellite launched in 2017 displayed behaviour with anything seen before from russian satellites that it may be a space russia claims the satellite was designed to towards satellites already in orbit and them \n",
      "실제 요약 : us over russian \n",
      "예측 요약 :  russia releases russian launch of russian rocket\n",
      "\n",
      "\n",
      "원문 : major markets in delhi remained shut on wednesday as called for a strike to protest the drive carried out by municipal the drive came based on from a supreme court committee over violation of delhi plan the has affected 40 lakh people including employees and their families \n",
      "실제 요약 : delhi remain shut as protest drive \n",
      "예측 요약 :  delhi govt shut down after protests\n",
      "\n",
      "\n",
      "원문 : indian took all sri lankan wickets in the first innings in kolkata marking the first of indian all batsmen in an innings of a home test after 34 years kumar and mohammed shami took four each while yadav took two the previous was against windies in when kapil posted career best 9 \n",
      "실제 요약 : indian bag all wickets in home test after 34 yrs \n",
      "예측 요약 :  sri lanka end day of test series after sl defeat\n",
      "\n",
      "\n",
      "원문 : players of the side kerala wore featuring the image of a in his boat with a rescue helicopter as the as a tribute to the rescue workers during the kerala floods the jersey was by the players during the team's opening home game of the season against mumbai city on friday \n",
      "실제 요약 : kerala wear special jersey to honour rescue workers \n",
      "예측 요약 :  cricket team wears to rescue kerala stadium after death\n",
      "\n",
      "\n",
      "원문 : cricketer chris gayle who is the only player to score over 10 000 runs in t20 cricket was not picked by any of the in the pakistan super league draft held in on sunday an owner cited lack of runs in the ipl and said his was also one of the reasons behind it \n",
      "실제 요약 : chris gayle goes in pakistan super league \n"
     ]
    },
    {
     "name": "stdout",
     "output_type": "stream",
     "text": [
      "예측 요약 :  gayle gayle sets record for most in ipl\n",
      "\n",
      "\n",
      "원문 : a 35 year old man off his sister in head and hands for by her in delhi's on friday the man to her sense of lack of in talking to other men and suspected her of having officials said the accused then by claiming that he did the right thing \n",
      "실제 요약 : delhi man sister in law for honour \n",
      "예측 요약 :  delhi man off sister after being stabbed by\n",
      "\n",
      "\n",
      "원문 : former rbi governor when asked about elected has said it's often people to a certain of society who take countries down the wrong path warning that policies out of damage economic growth he said the short term political solutions to concerns about job could the of the country \n",
      "실제 요약 : elected can take nations down wrong rajan \n",
      "예측 요약 :  rajan praises rajan for speech\n",
      "\n",
      "\n",
      "원문 : the trailer of ayushmann and starrer has been released ayushmann plays the role of a player while plays his love interest in the film directed by the film is scheduled to release on october 5 will mark the first of with ayushmann and \n",
      "실제 요약 : trailer of ayushmann starrer out \n",
      "예측 요약 :  trailer of ayushmann starrer released\n",
      "\n",
      "\n",
      "원문 : former pakistani captain khan has dismissed any rumours his retirement and asked his fans and followers to not question his even if i score a hundred in all innings of all tests against west i will still said in a video post rumours had claimed that was his retirement from cricket \n",
      "실제 요약 : will retire even if i score 100 in all innings vs wi \n",
      "예측 요약 :  shoaib akhtar reveals he asked to watch him\n",
      "\n",
      "\n",
      "원문 : a former has claimed that he told pope about allegations of sexual abuse of children by in 2013 but he did not act on the information called for resignation saying he must be the first to set an example for and who covered up \n",
      "실제 요약 : pope knew of abuse must quit ex envoy \n",
      "예측 요약 :  sexual abuse allegations against me ex\n",
      "\n",
      "\n"
     ]
    }
   ],
   "source": [
    "for i in range(1, 50):\n",
    "    print(\"원문 :\", seq2text(encoder_input_test[i]))\n",
    "    print(\"실제 요약 :\", seq2summary(decoder_input_test[i]))\n",
    "    print(\"예측 요약 :\", decode_sequence(encoder_input_test[i].reshape(1, text_max_len)))\n",
    "    print(\"\\n\")"
   ]
  },
  {
   "cell_type": "markdown",
   "metadata": {},
   "source": [
    "### Step 5. Summa를 이용해서 추출적 요약해보기    \n",
    "추상적 요약에 비해 난이도가 낮고 기존 문장에서 문장을 꺼내오는 Summa의 추출적 요약 사용해보기  \n"
   ]
  },
  {
   "cell_type": "markdown",
   "metadata": {},
   "source": [
    "1) 패키지 설치 필요   \n",
    "\n",
    "$ pip install summa\n"
   ]
  },
  {
   "cell_type": "code",
   "execution_count": 59,
   "metadata": {},
   "outputs": [],
   "source": [
    "#데이터 다운로드하기 \n",
    "import requests\n",
    "from summa.summarizer import summarize"
   ]
  },
  {
   "cell_type": "code",
   "execution_count": 60,
   "metadata": {},
   "outputs": [],
   "source": [
    "#메트릭스 시놉시스 다운로드 하기 \n",
    "text = requests.get('http://rare-technologies.com/the_matrix_synopsis.txt').text"
   ]
  },
  {
   "cell_type": "code",
   "execution_count": 61,
   "metadata": {},
   "outputs": [
    {
     "name": "stdout",
     "output_type": "stream",
     "text": [
      "The screen is filled with green, cascading code which gives way to the title, The Matrix.\r\n",
      "\r\n",
      "A phone rings and text appears on the screen: \"Call trans opt: received. 2-19-98 13:24:18 REC: Log>\" As a conversation takes place between Trinity (Carrie-Anne Moss) and Cypher (Joe Pantoliano), two free humans, a table of random green numbers are being scanned and individual numbers selected, creating a series of digits not unlike an ordinary phone number, as if a code is being deciphered or a call is being traced.\r\n",
      "\r\n",
      "Trinity discusses some unknown person. Cypher taunts Trinity, suggesting she enjoys watching him. Trinity counters that \"Morpheus (Laurence Fishburne) says he may be 'the One',\" just as the sound of a number being selected alerts Trinity that someone may be tracing their call. She ends the call.\r\n",
      "\r\n",
      "Armed policemen move down a darkened, decrepit hallway in the Heart O' the City Hotel, their flashlight beam bouncing just ahead of them. They come to room 303, kick down the door and find a woman dressed in black, facing away from them. It's Trinity. She brings her hands up from the laptop she's working on at their command.\r\n",
      "\r\n",
      "Outside the hotel a car drives up and three agents appear in neatly pressed black suits. They are Agent Smith (Hugo Weaving), Agent Brown (Paul Goddard), and Agent Jones (Robert Taylor). Agent Smith and the presiding police lieutenant argue. Agent Smith admonishes the policeman that they were given specific orders to contact the agents first, for their\n"
     ]
    }
   ],
   "source": [
    "#시놉시스 다운로드 후, 일부 출력해보기 (문자열로 저장 되어 있음)\n",
    "print(text[:1500])"
   ]
  },
  {
   "cell_type": "markdown",
   "metadata": {},
   "source": [
    "#### Summarize 사용하기 "
   ]
  },
  {
   "cell_type": "markdown",
   "metadata": {},
   "source": [
    "< Summa의 Summarize()의 인자로 사용되는 값들 >   \n",
    "\n",
    "* text (str) : 요약할 테스트.   \n",
    "\n",
    "* ratio (float, optional) – 요약문에서 원본에서 선택되는 문장 비율. 0~1 사이값   \n",
    "\n",
    "* words (int or None, optional) – 출력에 포함할 단어 수.   \n",
    "\n",
    "만약, ratio와 함께 두 파라미터가 모두 제공되는 경우 ratio는 무시한다.   \n",
    "\n",
    "* split (bool, optional) – True면 문장 list / False는 조인(join)된 문자열을 반환   \n",
    "   \n",
    " <특징: Summa의 summarize는 문장 토큰화를 별도로 하지 않더라도 내부적으로 문장 토큰화를 수행해요. 그렇기 때문에 문장 구분이 되어있지 않은 원문을 바로 입력으로 넣을 수 있어요> "
   ]
  },
  {
   "cell_type": "code",
   "execution_count": 99,
   "metadata": {},
   "outputs": [
    {
     "name": "stdout",
     "output_type": "stream",
     "text": [
      "Summary:\n",
      "Morpheus, Trinity, Neo, Apoc, Switch, Mouse and Cypher are jacked into the Matrix.\n",
      "Trinity brings the helicopter down to the floor that Morpheus is on and Neo opens fire on the three Agents.\n"
     ]
    }
   ],
   "source": [
    "# 원문의 0.005%만 요약해서 출력하는 방법\n",
    "print('Summary:')\n",
    "print(summarize(text, ratio=0.005))"
   ]
  },
  {
   "cell_type": "code",
   "execution_count": 101,
   "metadata": {},
   "outputs": [
    {
     "name": "stdout",
     "output_type": "stream",
     "text": [
      "Summary:\n",
      "['Morpheus, Trinity, Neo, Apoc, Switch, Mouse and Cypher are jacked into the Matrix.', 'Trinity brings the helicopter down to the floor that Morpheus is on and Neo opens fire on the three Agents.']\n"
     ]
    }
   ],
   "source": [
    "#리스트로 결과 출력 받기 \n",
    "# split 인자 값을 True로 하면 됨!\n",
    "print('Summary:')\n",
    "print(summarize(text, ratio=0.005, split=True))"
   ]
  },
  {
   "cell_type": "code",
   "execution_count": 102,
   "metadata": {},
   "outputs": [
    {
     "name": "stdout",
     "output_type": "stream",
     "text": [
      "Summary:\n",
      "Trinity takes Neo to Morpheus.\n",
      "Morpheus, Trinity, Neo, Apoc, Switch, Mouse and Cypher are jacked into the Matrix.\n",
      "Trinity brings the helicopter down to the floor that Morpheus is on and Neo opens fire on the three Agents.\n"
     ]
    }
   ],
   "source": [
    "#단어의 수로 요약문 크기 조절하기 \n",
    "#단어 50개만 선택해서 요약하기 \n",
    "print('Summary:')\n",
    "print(summarize(text, words=50))"
   ]
  },
  {
   "cell_type": "markdown",
   "metadata": {},
   "source": [
    "---"
   ]
  },
  {
   "cell_type": "markdown",
   "metadata": {},
   "source": [
    "위에 csv의 뉴스를 summa로 해보고 싶은데, 도저히 str으로 변경하는 방법을 모르겠어서   \n",
    "그냥 매트릭스 시놉시스로 진행하였습니다 ㅠㅠ    \n",
    "\n",
    "BBC에서 뉴스 하나 뽑아서 txt로 넣어봤는데도, Readable하지 않다고 떠서 summa는 다른 파일에 사용하지 못하였습니다 ㅠㅠ   \n",
    "혹시나 방법 있다면 공유 부탁 드려용   \n"
   ]
  },
  {
   "cell_type": "code",
   "execution_count": null,
   "metadata": {},
   "outputs": [],
   "source": []
  }
 ],
 "metadata": {
  "kernelspec": {
   "display_name": "Python 3",
   "language": "python",
   "name": "python3"
  },
  "language_info": {
   "codemirror_mode": {
    "name": "ipython",
    "version": 3
   },
   "file_extension": ".py",
   "mimetype": "text/x-python",
   "name": "python",
   "nbconvert_exporter": "python",
   "pygments_lexer": "ipython3",
   "version": "3.7.9"
  }
 },
 "nbformat": 4,
 "nbformat_minor": 4
}
